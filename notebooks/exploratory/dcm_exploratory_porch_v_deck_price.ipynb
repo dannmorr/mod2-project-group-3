{
 "cells": [
  {
   "cell_type": "markdown",
   "metadata": {},
   "source": [
    "## Exploration for Claim 2: ##\n",
    "    Comparing mean Sale Price for homes based on outdoor space\n",
    "    no outdoor space\n",
    "    open porch\n",
    "    enclosed porch\n",
    "    deck"
   ]
  },
  {
   "cell_type": "markdown",
   "metadata": {},
   "source": [
    "### Make necessary imports"
   ]
  },
  {
   "cell_type": "code",
   "execution_count": 149,
   "metadata": {},
   "outputs": [],
   "source": [
    "import numpy as np\n",
    "import matplotlib.pyplot as plt\n",
    "import seaborn as sns\n",
    "import pandas as pd\n",
    "from statsmodels.formula.api import ols\n",
    "import statsmodels.api as sm\n",
    "import statsmodels.stats.api as sms\n",
    "from scipy import stats\n",
    "\n",
    "%matplotlib inline\n",
    "plt.style.use('ggplot')\n",
    "\n",
    "#from ltests import model"
   ]
  },
  {
   "cell_type": "markdown",
   "metadata": {},
   "source": [
    "### Import our combined csv into a DataFrame"
   ]
  },
  {
   "cell_type": "code",
   "execution_count": 150,
   "metadata": {},
   "outputs": [],
   "source": [
    "raw = pd.read_csv('../../data/master.csv', low_memory=False, dtype={'id': object})"
   ]
  },
  {
   "cell_type": "code",
   "execution_count": 151,
   "metadata": {},
   "outputs": [
    {
     "data": {
      "text/plain": [
       "62039"
      ]
     },
     "execution_count": 151,
     "metadata": {},
     "output_type": "execute_result"
    }
   ],
   "source": [
    "#how many entries are there?\n",
    "raw.shape[0]"
   ]
  },
  {
   "cell_type": "markdown",
   "metadata": {},
   "source": [
    "### We would like to select only those entries that have a sale price greater than 0"
   ]
  },
  {
   "cell_type": "code",
   "execution_count": 152,
   "metadata": {},
   "outputs": [
    {
     "data": {
      "text/plain": [
       "42214"
      ]
     },
     "execution_count": 152,
     "metadata": {},
     "output_type": "execute_result"
    }
   ],
   "source": [
    "raw = raw[raw.SalePrice > 0]\n",
    "raw.shape[0]"
   ]
  },
  {
   "cell_type": "markdown",
   "metadata": {},
   "source": [
    "### Now we select the sales with the proper PropertyType codes\n",
    "The following are of interest to us:\n",
    " - 11: Household, single family units\n",
    "  \n",
    "*These codes can be found in the Lookup.zip file located at*\n",
    "\n",
    "https://info.kingcounty.gov/assessor/DataDownload/default.aspx "
   ]
  },
  {
   "cell_type": "code",
   "execution_count": 153,
   "metadata": {},
   "outputs": [
    {
     "data": {
      "text/plain": [
       "19264"
      ]
     },
     "execution_count": 153,
     "metadata": {},
     "output_type": "execute_result"
    }
   ],
   "source": [
    "proptypes = [11]\n",
    "\n",
    "df = raw[raw.PropertyType.isin(proptypes)]\n",
    "df.shape[0]\n"
   ]
  },
  {
   "cell_type": "code",
   "execution_count": 154,
   "metadata": {},
   "outputs": [
    {
     "data": {
      "text/html": [
       "<div>\n",
       "<style scoped>\n",
       "    .dataframe tbody tr th:only-of-type {\n",
       "        vertical-align: middle;\n",
       "    }\n",
       "\n",
       "    .dataframe tbody tr th {\n",
       "        vertical-align: top;\n",
       "    }\n",
       "\n",
       "    .dataframe thead th {\n",
       "        text-align: right;\n",
       "    }\n",
       "</style>\n",
       "<table border=\"1\" class=\"dataframe\">\n",
       "  <thead>\n",
       "    <tr style=\"text-align: right;\">\n",
       "      <th></th>\n",
       "      <th>SalePrice</th>\n",
       "      <th>id</th>\n",
       "      <th>ExciseTaxNbr</th>\n",
       "      <th>DocumentDate</th>\n",
       "      <th>RecordingNbr</th>\n",
       "      <th>Volume</th>\n",
       "      <th>Page</th>\n",
       "      <th>PlatNbr</th>\n",
       "      <th>PlatType</th>\n",
       "      <th>PlatLot</th>\n",
       "      <th>...</th>\n",
       "      <th>FpFreestanding</th>\n",
       "      <th>FpAdditional</th>\n",
       "      <th>YrBuilt</th>\n",
       "      <th>YrRenovated</th>\n",
       "      <th>PcntComplete</th>\n",
       "      <th>Obsolescence</th>\n",
       "      <th>PcntNetCondition</th>\n",
       "      <th>Condition</th>\n",
       "      <th>AddnlCost</th>\n",
       "      <th>footprint</th>\n",
       "    </tr>\n",
       "  </thead>\n",
       "  <tbody>\n",
       "    <tr>\n",
       "      <td>2</td>\n",
       "      <td>485500</td>\n",
       "      <td>0001000042</td>\n",
       "      <td>3018323</td>\n",
       "      <td>10/29/2019</td>\n",
       "      <td>20191031001228</td>\n",
       "      <td></td>\n",
       "      <td></td>\n",
       "      <td></td>\n",
       "      <td></td>\n",
       "      <td></td>\n",
       "      <td>...</td>\n",
       "      <td>0.0</td>\n",
       "      <td>0.0</td>\n",
       "      <td>2016.0</td>\n",
       "      <td>0.0</td>\n",
       "      <td>0.0</td>\n",
       "      <td>0.0</td>\n",
       "      <td>0.0</td>\n",
       "      <td>3.0</td>\n",
       "      <td>0.0</td>\n",
       "      <td>0.238254</td>\n",
       "    </tr>\n",
       "    <tr>\n",
       "      <td>8</td>\n",
       "      <td>358308</td>\n",
       "      <td>0001000067</td>\n",
       "      <td>2979287</td>\n",
       "      <td>03/18/2019</td>\n",
       "      <td>20190327000321</td>\n",
       "      <td></td>\n",
       "      <td></td>\n",
       "      <td></td>\n",
       "      <td></td>\n",
       "      <td></td>\n",
       "      <td>...</td>\n",
       "      <td>0.0</td>\n",
       "      <td>1.0</td>\n",
       "      <td>1946.0</td>\n",
       "      <td>0.0</td>\n",
       "      <td>0.0</td>\n",
       "      <td>0.0</td>\n",
       "      <td>0.0</td>\n",
       "      <td>4.0</td>\n",
       "      <td>0.0</td>\n",
       "      <td>0.128736</td>\n",
       "    </tr>\n",
       "    <tr>\n",
       "      <td>11</td>\n",
       "      <td>850000</td>\n",
       "      <td>0001200008</td>\n",
       "      <td>2991776</td>\n",
       "      <td>05/17/2019</td>\n",
       "      <td>20190604001211</td>\n",
       "      <td></td>\n",
       "      <td></td>\n",
       "      <td></td>\n",
       "      <td></td>\n",
       "      <td></td>\n",
       "      <td>...</td>\n",
       "      <td>0.0</td>\n",
       "      <td>1.0</td>\n",
       "      <td>1964.0</td>\n",
       "      <td>0.0</td>\n",
       "      <td>0.0</td>\n",
       "      <td>0.0</td>\n",
       "      <td>0.0</td>\n",
       "      <td>4.0</td>\n",
       "      <td>0.0</td>\n",
       "      <td>0.072488</td>\n",
       "    </tr>\n",
       "    <tr>\n",
       "      <td>22</td>\n",
       "      <td>465000</td>\n",
       "      <td>0002000015</td>\n",
       "      <td>3022128</td>\n",
       "      <td>11/19/2019</td>\n",
       "      <td>20191122001296</td>\n",
       "      <td></td>\n",
       "      <td></td>\n",
       "      <td></td>\n",
       "      <td></td>\n",
       "      <td></td>\n",
       "      <td>...</td>\n",
       "      <td>0.0</td>\n",
       "      <td>1.0</td>\n",
       "      <td>1961.0</td>\n",
       "      <td>0.0</td>\n",
       "      <td>0.0</td>\n",
       "      <td>0.0</td>\n",
       "      <td>0.0</td>\n",
       "      <td>5.0</td>\n",
       "      <td>0.0</td>\n",
       "      <td>0.086336</td>\n",
       "    </tr>\n",
       "    <tr>\n",
       "      <td>36</td>\n",
       "      <td>350000</td>\n",
       "      <td>0003000086</td>\n",
       "      <td>2995868</td>\n",
       "      <td>06/18/2019</td>\n",
       "      <td></td>\n",
       "      <td></td>\n",
       "      <td></td>\n",
       "      <td></td>\n",
       "      <td></td>\n",
       "      <td></td>\n",
       "      <td>...</td>\n",
       "      <td>0.0</td>\n",
       "      <td>0.0</td>\n",
       "      <td>1948.0</td>\n",
       "      <td>0.0</td>\n",
       "      <td>0.0</td>\n",
       "      <td>0.0</td>\n",
       "      <td>0.0</td>\n",
       "      <td>4.0</td>\n",
       "      <td>0.0</td>\n",
       "      <td>0.081522</td>\n",
       "    </tr>\n",
       "  </tbody>\n",
       "</table>\n",
       "<p>5 rows × 151 columns</p>\n",
       "</div>"
      ],
      "text/plain": [
       "    SalePrice          id  ExciseTaxNbr DocumentDate    RecordingNbr Volume  \\\n",
       "2      485500  0001000042       3018323   10/29/2019  20191031001228          \n",
       "8      358308  0001000067       2979287   03/18/2019  20190327000321          \n",
       "11     850000  0001200008       2991776   05/17/2019  20190604001211          \n",
       "22     465000  0002000015       3022128   11/19/2019  20191122001296          \n",
       "36     350000  0003000086       2995868   06/18/2019                          \n",
       "\n",
       "   Page PlatNbr PlatType         PlatLot  ... FpFreestanding FpAdditional  \\\n",
       "2                                         ...            0.0          0.0   \n",
       "8                                         ...            0.0          1.0   \n",
       "11                                        ...            0.0          1.0   \n",
       "22                                        ...            0.0          1.0   \n",
       "36                                        ...            0.0          0.0   \n",
       "\n",
       "   YrBuilt  YrRenovated  PcntComplete  Obsolescence PcntNetCondition  \\\n",
       "2   2016.0          0.0           0.0           0.0              0.0   \n",
       "8   1946.0          0.0           0.0           0.0              0.0   \n",
       "11  1964.0          0.0           0.0           0.0              0.0   \n",
       "22  1961.0          0.0           0.0           0.0              0.0   \n",
       "36  1948.0          0.0           0.0           0.0              0.0   \n",
       "\n",
       "   Condition AddnlCost footprint  \n",
       "2        3.0       0.0  0.238254  \n",
       "8        4.0       0.0  0.128736  \n",
       "11       4.0       0.0  0.072488  \n",
       "22       5.0       0.0  0.086336  \n",
       "36       4.0       0.0  0.081522  \n",
       "\n",
       "[5 rows x 151 columns]"
      ]
     },
     "execution_count": 154,
     "metadata": {},
     "output_type": "execute_result"
    }
   ],
   "source": [
    "#set the target to column index 0\n",
    "cols = list(df.columns)\n",
    "cols = [cols[3]] + cols[:3] + cols[4:]\n",
    "df = df[cols]\n",
    "df.head()"
   ]
  },
  {
   "cell_type": "code",
   "execution_count": 155,
   "metadata": {},
   "outputs": [],
   "source": [
    "#filling in NaN with zero\n",
    "#assuming they are NaN because there is no porch or deck\n",
    "\n",
    "df['SqFtOpenPorch'] = df['SqFtOpenPorch'].fillna(0)\n",
    "df['SqFtEnclosedPorch'] = df['SqFtEnclosedPorch'].fillna(0)\n",
    "df['SqFtDeck'] = df['SqFtDeck'].fillna(0)"
   ]
  },
  {
   "cell_type": "code",
   "execution_count": 156,
   "metadata": {},
   "outputs": [],
   "source": [
    "#add column for Outdoor space\n",
    "# if OutdoorSpace = zero, there is no proch or deck\n",
    "df['OutdoorSpace']= df['SqFtOpenPorch']+df['SqFtEnclosedPorch']+df['SqFtDeck']"
   ]
  },
  {
   "cell_type": "markdown",
   "metadata": {},
   "source": [
    "## Removed outliers. \n",
    "\n",
    "set minimum price threshold at \\\\$200,000.\n",
    "\n",
    "set maximum price threshold at \\\\$9,000,000.\n",
    "\n",
    "notes from meeting with Joél-\n",
    "made decision based on hist and box plots ... unreadable becasue of outliers\n",
    "df.describe\n",
    "founf 75% threshold (9mil)\n",
    "minimum threshold based on quick Zillow search for home prices in KC\n",
    "not thorough investigation. Could be more accurate by rearching a Zillow data set or web scraping."
   ]
  },
  {
   "cell_type": "code",
   "execution_count": 157,
   "metadata": {},
   "outputs": [
    {
     "data": {
      "text/plain": [
       "19094"
      ]
     },
     "execution_count": 157,
     "metadata": {},
     "output_type": "execute_result"
    }
   ],
   "source": [
    "df = df[(df.SalePrice<9000000)& (df.SalePrice>=200000)]\n",
    "df.shape[0]"
   ]
  },
  {
   "cell_type": "markdown",
   "metadata": {},
   "source": [
    "### Calculate the Mean Sale Price for Each category"
   ]
  },
  {
   "cell_type": "code",
   "execution_count": 158,
   "metadata": {},
   "outputs": [
    {
     "name": "stdout",
     "output_type": "stream",
     "text": [
      "There are 8810 houses. \n",
      "      The mean Sale Price is 867140.53.\n",
      "      \n"
     ]
    }
   ],
   "source": [
    "deck = df[df.SqFtDeck > 0]\n",
    "print(f'''There are {deck.SalePrice.count()} houses. \n",
    "      The mean Sale Price is {round(deck.SalePrice.mean(),2)}.\n",
    "      ''')"
   ]
  },
  {
   "cell_type": "code",
   "execution_count": 159,
   "metadata": {},
   "outputs": [
    {
     "name": "stdout",
     "output_type": "stream",
     "text": [
      "There are 9420 houses. \n",
      "      The mean Sale Price is 907577.68.\n",
      "     \n"
     ]
    }
   ],
   "source": [
    "open_porch = df[df.SqFtOpenPorch > 0]\n",
    "print(f'''There are {open_porch.SalePrice.count()} houses. \n",
    "      The mean Sale Price is {round(open_porch.SalePrice.mean(),2)}.\n",
    "     ''')"
   ]
  },
  {
   "cell_type": "code",
   "execution_count": 160,
   "metadata": {},
   "outputs": [
    {
     "name": "stdout",
     "output_type": "stream",
     "text": [
      "There are 794 houses.\n",
      "      The mean Sale Price is 771770.65.\n",
      "     \n"
     ]
    }
   ],
   "source": [
    "encl_porch = df[df.SqFtEnclosedPorch > 0]\n",
    "print(f'''There are {encl_porch.SalePrice.count()} houses.\n",
    "      The mean Sale Price is {round(encl_porch.SalePrice.mean(),2)}.\n",
    "     ''')"
   ]
  },
  {
   "cell_type": "code",
   "execution_count": 161,
   "metadata": {},
   "outputs": [
    {
     "name": "stdout",
     "output_type": "stream",
     "text": [
      "There are 4513 houses.\n",
      "      The mean Sale Price is 625368.78.\n",
      "     \n"
     ]
    }
   ],
   "source": [
    "no_out = df[df.OutdoorSpace == 0]\n",
    "print(f'''There are {no_out.SalePrice.count()} houses.\n",
    "      The mean Sale Price is {round(no_out.SalePrice.mean(),2)}.\n",
    "     ''')"
   ]
  },
  {
   "cell_type": "code",
   "execution_count": 162,
   "metadata": {},
   "outputs": [
    {
     "name": "stdout",
     "output_type": "stream",
     "text": [
      "There are 14581 houses.\n",
      "      The mean Sale Price is 846023.32.\n",
      "     \n"
     ]
    }
   ],
   "source": [
    "yes_out = df[df.OutdoorSpace > 0]\n",
    "print(f'''There are {yes_out.SalePrice.count()} houses.\n",
    "      The mean Sale Price is {round(yes_out.SalePrice.mean(),2)}.\n",
    "     ''')"
   ]
  },
  {
   "cell_type": "code",
   "execution_count": 164,
   "metadata": {},
   "outputs": [
    {
     "name": "stdout",
     "output_type": "stream",
     "text": [
      "The sample contains 1000 observations, having a mean of 640505.103 and a standard deviation 448682.86677539314 with 999 degrees of freedom. The difference between the sample and population mean is: 15136.319707290037\n"
     ]
    }
   ],
   "source": [
    "import seaborn as sns\n",
    "import matplotlib.pyplot as plt\n",
    "sample = no_out.SalePrice.sample(n=1000, random_state=3)\n",
    "\n",
    "# Population mean\n",
    "mu = no_out.SalePrice.mean()\n",
    "\n",
    "#Sample mean\n",
    "x_bar = sample.mean()\n",
    "\n",
    "# Sample standard deviation\n",
    "sigma = np.std(sample,ddof=1)\n",
    "\n",
    "#Sample size (n)\n",
    "n= len(sample)\n",
    "\n",
    "#Degrees of Freedom\n",
    "df = n-1\n",
    "\n",
    "#Difference in sample mean\n",
    "diff = x_bar-mu\n",
    "\n",
    "#The findings\n",
    "print ('The sample contains', n, 'observations, having a mean of', x_bar, 'and a standard deviation' ,sigma, 'with', df, 'degrees of freedom. The difference between the sample and population mean is:', diff)"
   ]
  },
  {
   "cell_type": "code",
   "execution_count": 165,
   "metadata": {},
   "outputs": [
    {
     "data": {
      "text/plain": [
       "<matplotlib.axes._subplots.AxesSubplot at 0x7f9c4def70b8>"
      ]
     },
     "execution_count": 165,
     "metadata": {},
     "output_type": "execute_result"
    },
    {
     "data": {
      "image/png": "[encoded data removed]",
      "text/plain": [
       "<Figure size 864x720 with 1 Axes>"
      ]
     },
     "metadata": {},
     "output_type": "display_data"
    }
   ],
   "source": [
    "sns.set(color_codes=True)\n",
    "sns.set(rc={'figure.figsize':(12,10)})\n",
    "sns.distplot(yes_out.SalePrice.values)"
   ]
  },
  {
   "cell_type": "code",
   "execution_count": null,
   "metadata": {},
   "outputs": [],
   "source": []
  },
  {
   "cell_type": "code",
   "execution_count": 102,
   "metadata": {
    "jupyter": {
     "source_hidden": true
    }
   },
   "outputs": [],
   "source": [
    "control = no_out.SalePrice.values\n",
    "exper = yes_out.SalePrice.values"
   ]
  },
  {
   "cell_type": "code",
   "execution_count": 104,
   "metadata": {
    "collapsed": true,
    "jupyter": {
     "outputs_hidden": true,
     "source_hidden": true
    }
   },
   "outputs": [
    {
     "data": {
      "text/plain": [
       "Ttest_indResult(statistic=15.724866426845598, pvalue=1.1639242532430853e-54)"
      ]
     },
     "execution_count": 104,
     "metadata": {},
     "output_type": "execute_result"
    }
   ],
   "source": [
    "stats.ttest_ind(yes_set, no_set, equal_var=False)"
   ]
  }
 ],
 "metadata": {
  "kernelspec": {
   "display_name": "learn-env",
   "language": "python",
   "name": "learn-env"
  },
  "language_info": {
   "codemirror_mode": {
    "name": "ipython",
    "version": 3
   },
   "file_extension": ".py",
   "mimetype": "text/x-python",
   "name": "python",
   "nbconvert_exporter": "python",
   "pygments_lexer": "ipython3",
   "version": "3.6.9"
  }
 },
 "nbformat": 4,
 "nbformat_minor": 4
}
