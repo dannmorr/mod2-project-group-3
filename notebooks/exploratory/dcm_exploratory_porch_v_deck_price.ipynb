{
 "cells": [
  {
   "cell_type": "markdown",
   "metadata": {},
   "source": [
<<<<<<< HEAD
    "## Exploration for Claim 2: ##\n",
=======
    "## Exploration for Claim 2a: ##\n",
>>>>>>> 29888298a83009b62280d111ab367d235c10e32a
    "    Comparing mean Sale Price for homes based on outdoor space\n",
    "    no outdoor space\n",
    "    open porch\n",
    "    enclosed porch\n",
    "    deck"
   ]
  },
  {
   "cell_type": "markdown",
   "metadata": {},
   "source": [
<<<<<<< HEAD
=======
    "### Null hypothesis: There is no relationship between outdoor space and sale price\n",
    "\n",
    "### Alternative hypothesis: There is a relationship between outdoor space and sale price"
   ]
  },
  {
   "cell_type": "markdown",
   "metadata": {},
   "source": [
>>>>>>> 29888298a83009b62280d111ab367d235c10e32a
    "### Make necessary imports"
   ]
  },
  {
   "cell_type": "code",
<<<<<<< HEAD
   "execution_count": 149,
=======
   "execution_count": 70,
>>>>>>> 29888298a83009b62280d111ab367d235c10e32a
   "metadata": {},
   "outputs": [],
   "source": [
    "import numpy as np\n",
    "import matplotlib.pyplot as plt\n",
    "import seaborn as sns\n",
    "import pandas as pd\n",
    "from statsmodels.formula.api import ols\n",
    "import statsmodels.api as sm\n",
    "import statsmodels.stats.api as sms\n",
    "from scipy import stats\n",
    "\n",
    "%matplotlib inline\n",
    "plt.style.use('ggplot')\n",
    "\n",
    "#from ltests import model"
   ]
  },
  {
   "cell_type": "markdown",
   "metadata": {},
   "source": [
    "### Import our combined csv into a DataFrame"
   ]
  },
  {
   "cell_type": "code",
<<<<<<< HEAD
   "execution_count": 150,
=======
   "execution_count": 71,
>>>>>>> 29888298a83009b62280d111ab367d235c10e32a
   "metadata": {},
   "outputs": [],
   "source": [
    "raw = pd.read_csv('../../data/master.csv', low_memory=False, dtype={'id': object})"
   ]
  },
  {
   "cell_type": "code",
<<<<<<< HEAD
   "execution_count": 151,
=======
   "execution_count": 72,
>>>>>>> 29888298a83009b62280d111ab367d235c10e32a
   "metadata": {},
   "outputs": [
    {
     "data": {
      "text/plain": [
       "62039"
      ]
     },
<<<<<<< HEAD
     "execution_count": 151,
=======
     "execution_count": 72,
>>>>>>> 29888298a83009b62280d111ab367d235c10e32a
     "metadata": {},
     "output_type": "execute_result"
    }
   ],
   "source": [
    "#how many entries are there?\n",
    "raw.shape[0]"
   ]
  },
  {
   "cell_type": "markdown",
   "metadata": {},
   "source": [
    "### We would like to select only those entries that have a sale price greater than 0"
   ]
  },
  {
   "cell_type": "code",
<<<<<<< HEAD
   "execution_count": 152,
=======
   "execution_count": 73,
>>>>>>> 29888298a83009b62280d111ab367d235c10e32a
   "metadata": {},
   "outputs": [
    {
     "data": {
      "text/plain": [
       "42214"
      ]
     },
<<<<<<< HEAD
     "execution_count": 152,
=======
     "execution_count": 73,
>>>>>>> 29888298a83009b62280d111ab367d235c10e32a
     "metadata": {},
     "output_type": "execute_result"
    }
   ],
   "source": [
    "raw = raw[raw.SalePrice > 0]\n",
    "raw.shape[0]"
   ]
  },
  {
   "cell_type": "markdown",
   "metadata": {},
   "source": [
    "### Now we select the sales with the proper PropertyType codes\n",
    "The following are of interest to us:\n",
    " - 11: Household, single family units\n",
    "  \n",
    "*These codes can be found in the Lookup.zip file located at*\n",
    "\n",
    "https://info.kingcounty.gov/assessor/DataDownload/default.aspx "
   ]
  },
  {
   "cell_type": "code",
<<<<<<< HEAD
   "execution_count": 153,
   "metadata": {},
   "outputs": [
    {
     "data": {
      "text/plain": [
       "19264"
      ]
     },
     "execution_count": 153,
     "metadata": {},
     "output_type": "execute_result"
    }
   ],
   "source": [
    "proptypes = [11]\n",
    "\n",
    "df = raw[raw.PropertyType.isin(proptypes)]\n",
    "df.shape[0]\n"
   ]
  },
  {
   "cell_type": "code",
   "execution_count": 154,
=======
   "execution_count": 74,
>>>>>>> 29888298a83009b62280d111ab367d235c10e32a
   "metadata": {},
   "outputs": [
    {
     "data": {
      "text/html": [
       "<div>\n",
       "<style scoped>\n",
       "    .dataframe tbody tr th:only-of-type {\n",
       "        vertical-align: middle;\n",
       "    }\n",
       "\n",
       "    .dataframe tbody tr th {\n",
       "        vertical-align: top;\n",
       "    }\n",
       "\n",
       "    .dataframe thead th {\n",
       "        text-align: right;\n",
       "    }\n",
       "</style>\n",
       "<table border=\"1\" class=\"dataframe\">\n",
       "  <thead>\n",
       "    <tr style=\"text-align: right;\">\n",
       "      <th></th>\n",
       "      <th>SalePrice</th>\n",
       "      <th>id</th>\n",
       "      <th>ExciseTaxNbr</th>\n",
       "      <th>DocumentDate</th>\n",
       "      <th>RecordingNbr</th>\n",
       "      <th>Volume</th>\n",
       "      <th>Page</th>\n",
       "      <th>PlatNbr</th>\n",
       "      <th>PlatType</th>\n",
       "      <th>PlatLot</th>\n",
       "      <th>...</th>\n",
       "      <th>FpFreestanding</th>\n",
       "      <th>FpAdditional</th>\n",
       "      <th>YrBuilt</th>\n",
       "      <th>YrRenovated</th>\n",
       "      <th>PcntComplete</th>\n",
       "      <th>Obsolescence</th>\n",
       "      <th>PcntNetCondition</th>\n",
       "      <th>Condition</th>\n",
       "      <th>AddnlCost</th>\n",
       "      <th>footprint</th>\n",
       "    </tr>\n",
       "  </thead>\n",
       "  <tbody>\n",
       "    <tr>\n",
<<<<<<< HEAD
=======
       "      <td>0</td>\n",
       "      <td>9796500</td>\n",
       "      <td>0000200042</td>\n",
       "      <td>3003343</td>\n",
       "      <td>08/02/2019</td>\n",
       "      <td>20190805001366</td>\n",
       "      <td></td>\n",
       "      <td></td>\n",
       "      <td></td>\n",
       "      <td></td>\n",
       "      <td></td>\n",
       "      <td>...</td>\n",
       "      <td>NaN</td>\n",
       "      <td>NaN</td>\n",
       "      <td>NaN</td>\n",
       "      <td>NaN</td>\n",
       "      <td>NaN</td>\n",
       "      <td>NaN</td>\n",
       "      <td>NaN</td>\n",
       "      <td>NaN</td>\n",
       "      <td>NaN</td>\n",
       "      <td>NaN</td>\n",
       "    </tr>\n",
       "    <tr>\n",
>>>>>>> 29888298a83009b62280d111ab367d235c10e32a
       "      <td>2</td>\n",
       "      <td>485500</td>\n",
       "      <td>0001000042</td>\n",
       "      <td>3018323</td>\n",
       "      <td>10/29/2019</td>\n",
       "      <td>20191031001228</td>\n",
       "      <td></td>\n",
       "      <td></td>\n",
       "      <td></td>\n",
       "      <td></td>\n",
       "      <td></td>\n",
       "      <td>...</td>\n",
       "      <td>0.0</td>\n",
       "      <td>0.0</td>\n",
       "      <td>2016.0</td>\n",
       "      <td>0.0</td>\n",
       "      <td>0.0</td>\n",
       "      <td>0.0</td>\n",
       "      <td>0.0</td>\n",
       "      <td>3.0</td>\n",
       "      <td>0.0</td>\n",
       "      <td>0.238254</td>\n",
       "    </tr>\n",
       "    <tr>\n",
<<<<<<< HEAD
       "      <td>8</td>\n",
       "      <td>358308</td>\n",
       "      <td>0001000067</td>\n",
       "      <td>2979287</td>\n",
       "      <td>03/18/2019</td>\n",
       "      <td>20190327000321</td>\n",
=======
       "      <td>4</td>\n",
       "      <td>6050000</td>\n",
       "      <td>0001000056</td>\n",
       "      <td>3012411</td>\n",
       "      <td>09/27/2019</td>\n",
       "      <td>20190927001106</td>\n",
>>>>>>> 29888298a83009b62280d111ab367d235c10e32a
       "      <td></td>\n",
       "      <td></td>\n",
       "      <td></td>\n",
       "      <td></td>\n",
       "      <td></td>\n",
       "      <td>...</td>\n",
<<<<<<< HEAD
       "      <td>0.0</td>\n",
       "      <td>1.0</td>\n",
       "      <td>1946.0</td>\n",
       "      <td>0.0</td>\n",
       "      <td>0.0</td>\n",
       "      <td>0.0</td>\n",
       "      <td>0.0</td>\n",
       "      <td>4.0</td>\n",
       "      <td>0.0</td>\n",
       "      <td>0.128736</td>\n",
       "    </tr>\n",
       "    <tr>\n",
       "      <td>11</td>\n",
       "      <td>850000</td>\n",
       "      <td>0001200008</td>\n",
       "      <td>2991776</td>\n",
       "      <td>05/17/2019</td>\n",
       "      <td>20190604001211</td>\n",
=======
       "      <td>NaN</td>\n",
       "      <td>NaN</td>\n",
       "      <td>NaN</td>\n",
       "      <td>NaN</td>\n",
       "      <td>NaN</td>\n",
       "      <td>NaN</td>\n",
       "      <td>NaN</td>\n",
       "      <td>NaN</td>\n",
       "      <td>NaN</td>\n",
       "      <td>NaN</td>\n",
       "    </tr>\n",
       "    <tr>\n",
       "      <td>5</td>\n",
       "      <td>339000</td>\n",
       "      <td>0001000066</td>\n",
       "      <td>3023913</td>\n",
       "      <td>10/22/2019</td>\n",
       "      <td>20191204001511</td>\n",
>>>>>>> 29888298a83009b62280d111ab367d235c10e32a
       "      <td></td>\n",
       "      <td></td>\n",
       "      <td></td>\n",
       "      <td></td>\n",
       "      <td></td>\n",
       "      <td>...</td>\n",
       "      <td>0.0</td>\n",
<<<<<<< HEAD
       "      <td>1.0</td>\n",
       "      <td>1964.0</td>\n",
=======
       "      <td>0.0</td>\n",
       "      <td>1960.0</td>\n",
>>>>>>> 29888298a83009b62280d111ab367d235c10e32a
       "      <td>0.0</td>\n",
       "      <td>0.0</td>\n",
       "      <td>0.0</td>\n",
       "      <td>0.0</td>\n",
       "      <td>4.0</td>\n",
       "      <td>0.0</td>\n",
<<<<<<< HEAD
       "      <td>0.072488</td>\n",
       "    </tr>\n",
       "    <tr>\n",
       "      <td>22</td>\n",
       "      <td>465000</td>\n",
       "      <td>0002000015</td>\n",
       "      <td>3022128</td>\n",
       "      <td>11/19/2019</td>\n",
       "      <td>20191122001296</td>\n",
=======
       "      <td>0.082759</td>\n",
       "    </tr>\n",
       "    <tr>\n",
       "      <td>6</td>\n",
       "      <td>310800</td>\n",
       "      <td>0001000067</td>\n",
       "      <td>2981203</td>\n",
       "      <td>04/01/2019</td>\n",
       "      <td>20090206000297</td>\n",
>>>>>>> 29888298a83009b62280d111ab367d235c10e32a
       "      <td></td>\n",
       "      <td></td>\n",
       "      <td></td>\n",
       "      <td></td>\n",
       "      <td></td>\n",
       "      <td>...</td>\n",
       "      <td>0.0</td>\n",
       "      <td>1.0</td>\n",
<<<<<<< HEAD
       "      <td>1961.0</td>\n",
       "      <td>0.0</td>\n",
       "      <td>0.0</td>\n",
       "      <td>0.0</td>\n",
       "      <td>0.0</td>\n",
       "      <td>5.0</td>\n",
       "      <td>0.0</td>\n",
       "      <td>0.086336</td>\n",
       "    </tr>\n",
       "    <tr>\n",
       "      <td>36</td>\n",
       "      <td>350000</td>\n",
       "      <td>0003000086</td>\n",
       "      <td>2995868</td>\n",
       "      <td>06/18/2019</td>\n",
       "      <td></td>\n",
       "      <td></td>\n",
       "      <td></td>\n",
       "      <td></td>\n",
       "      <td></td>\n",
       "      <td></td>\n",
       "      <td>...</td>\n",
       "      <td>0.0</td>\n",
       "      <td>0.0</td>\n",
       "      <td>1948.0</td>\n",
=======
       "      <td>1946.0</td>\n",
>>>>>>> 29888298a83009b62280d111ab367d235c10e32a
       "      <td>0.0</td>\n",
       "      <td>0.0</td>\n",
       "      <td>0.0</td>\n",
       "      <td>0.0</td>\n",
       "      <td>4.0</td>\n",
       "      <td>0.0</td>\n",
<<<<<<< HEAD
       "      <td>0.081522</td>\n",
=======
       "      <td>0.128736</td>\n",
>>>>>>> 29888298a83009b62280d111ab367d235c10e32a
       "    </tr>\n",
       "  </tbody>\n",
       "</table>\n",
       "<p>5 rows × 151 columns</p>\n",
       "</div>"
      ],
      "text/plain": [
<<<<<<< HEAD
       "    SalePrice          id  ExciseTaxNbr DocumentDate    RecordingNbr Volume  \\\n",
       "2      485500  0001000042       3018323   10/29/2019  20191031001228          \n",
       "8      358308  0001000067       2979287   03/18/2019  20190327000321          \n",
       "11     850000  0001200008       2991776   05/17/2019  20190604001211          \n",
       "22     465000  0002000015       3022128   11/19/2019  20191122001296          \n",
       "36     350000  0003000086       2995868   06/18/2019                          \n",
       "\n",
       "   Page PlatNbr PlatType         PlatLot  ... FpFreestanding FpAdditional  \\\n",
       "2                                         ...            0.0          0.0   \n",
       "8                                         ...            0.0          1.0   \n",
       "11                                        ...            0.0          1.0   \n",
       "22                                        ...            0.0          1.0   \n",
       "36                                        ...            0.0          0.0   \n",
       "\n",
       "   YrBuilt  YrRenovated  PcntComplete  Obsolescence PcntNetCondition  \\\n",
       "2   2016.0          0.0           0.0           0.0              0.0   \n",
       "8   1946.0          0.0           0.0           0.0              0.0   \n",
       "11  1964.0          0.0           0.0           0.0              0.0   \n",
       "22  1961.0          0.0           0.0           0.0              0.0   \n",
       "36  1948.0          0.0           0.0           0.0              0.0   \n",
       "\n",
       "   Condition AddnlCost footprint  \n",
       "2        3.0       0.0  0.238254  \n",
       "8        4.0       0.0  0.128736  \n",
       "11       4.0       0.0  0.072488  \n",
       "22       5.0       0.0  0.086336  \n",
       "36       4.0       0.0  0.081522  \n",
=======
       "   SalePrice          id  ExciseTaxNbr DocumentDate    RecordingNbr Volume  \\\n",
       "0    9796500  0000200042       3003343   08/02/2019  20190805001366          \n",
       "2     485500  0001000042       3018323   10/29/2019  20191031001228          \n",
       "4    6050000  0001000056       3012411   09/27/2019  20190927001106          \n",
       "5     339000  0001000066       3023913   10/22/2019  20191204001511          \n",
       "6     310800  0001000067       2981203   04/01/2019  20090206000297          \n",
       "\n",
       "  Page PlatNbr PlatType         PlatLot  ... FpFreestanding FpAdditional  \\\n",
       "0                                        ...            NaN          NaN   \n",
       "2                                        ...            0.0          0.0   \n",
       "4                                        ...            NaN          NaN   \n",
       "5                                        ...            0.0          0.0   \n",
       "6                                        ...            0.0          1.0   \n",
       "\n",
       "  YrBuilt  YrRenovated  PcntComplete  Obsolescence PcntNetCondition Condition  \\\n",
       "0     NaN          NaN           NaN           NaN              NaN       NaN   \n",
       "2  2016.0          0.0           0.0           0.0              0.0       3.0   \n",
       "4     NaN          NaN           NaN           NaN              NaN       NaN   \n",
       "5  1960.0          0.0           0.0           0.0              0.0       4.0   \n",
       "6  1946.0          0.0           0.0           0.0              0.0       4.0   \n",
       "\n",
       "  AddnlCost footprint  \n",
       "0       NaN       NaN  \n",
       "2       0.0  0.238254  \n",
       "4       NaN       NaN  \n",
       "5       0.0  0.082759  \n",
       "6       0.0  0.128736  \n",
>>>>>>> 29888298a83009b62280d111ab367d235c10e32a
       "\n",
       "[5 rows x 151 columns]"
      ]
     },
<<<<<<< HEAD
     "execution_count": 154,
=======
     "execution_count": 74,
>>>>>>> 29888298a83009b62280d111ab367d235c10e32a
     "metadata": {},
     "output_type": "execute_result"
    }
   ],
   "source": [
    "#set the target to column index 0\n",
<<<<<<< HEAD
    "cols = list(df.columns)\n",
    "cols = [cols[3]] + cols[:3] + cols[4:]\n",
    "df = df[cols]\n",
    "df.head()"
=======
    "cols = list(raw.columns)\n",
    "cols = [cols[3]] + cols[:3] + cols[4:]\n",
    "raw = raw[cols]\n",
    "raw.head()"
   ]
  },
  {
   "cell_type": "code",
   "execution_count": 75,
   "metadata": {},
   "outputs": [
    {
     "data": {
      "text/plain": [
       "19264"
      ]
     },
     "execution_count": 75,
     "metadata": {},
     "output_type": "execute_result"
    }
   ],
   "source": [
    "proptypes = [11]\n",
    "\n",
    "df=raw[raw.PropertyType.isin(proptypes)]\n",
    "df.shape[0]\n"
>>>>>>> 29888298a83009b62280d111ab367d235c10e32a
   ]
  },
  {
   "cell_type": "code",
<<<<<<< HEAD
   "execution_count": 155,
=======
   "execution_count": 76,
   "metadata": {},
   "outputs": [
    {
     "data": {
      "text/plain": [
       "pandas.core.frame.DataFrame"
      ]
     },
     "execution_count": 76,
     "metadata": {},
     "output_type": "execute_result"
    }
   ],
   "source": [
    "type(df)"
   ]
  },
  {
   "cell_type": "code",
   "execution_count": 77,
>>>>>>> 29888298a83009b62280d111ab367d235c10e32a
   "metadata": {},
   "outputs": [],
   "source": [
    "#filling in NaN with zero\n",
    "#assuming they are NaN because there is no porch or deck\n",
    "\n",
<<<<<<< HEAD
    "df['SqFtOpenPorch'] = df['SqFtOpenPorch'].fillna(0)\n",
    "df['SqFtEnclosedPorch'] = df['SqFtEnclosedPorch'].fillna(0)\n",
    "df['SqFtDeck'] = df['SqFtDeck'].fillna(0)"
=======
    "#df['SqFtOpenPorch'] = df['SqFtOpenPorch'].fillna(0)\n",
    "#df['SqFtEnclosedPorch'] = df['SqFtEnclosedPorch'].fillna(0)\n",
    "#df['SqFtDeck'] = df['SqFtDeck'].fillna(0)"
>>>>>>> 29888298a83009b62280d111ab367d235c10e32a
   ]
  },
  {
   "cell_type": "code",
<<<<<<< HEAD
   "execution_count": 156,
   "metadata": {},
   "outputs": [],
=======
   "execution_count": 78,
   "metadata": {},
   "outputs": [
    {
     "name": "stderr",
     "output_type": "stream",
     "text": [
      "/opt/anaconda3/envs/learn-env/lib/python3.6/site-packages/ipykernel_launcher.py:3: SettingWithCopyWarning: \n",
      "A value is trying to be set on a copy of a slice from a DataFrame.\n",
      "Try using .loc[row_indexer,col_indexer] = value instead\n",
      "\n",
      "See the caveats in the documentation: http://pandas.pydata.org/pandas-docs/stable/user_guide/indexing.html#returning-a-view-versus-a-copy\n",
      "  This is separate from the ipykernel package so we can avoid doing imports until\n"
     ]
    }
   ],
>>>>>>> 29888298a83009b62280d111ab367d235c10e32a
   "source": [
    "#add column for Outdoor space\n",
    "# if OutdoorSpace = zero, there is no proch or deck\n",
    "df['OutdoorSpace']= df['SqFtOpenPorch']+df['SqFtEnclosedPorch']+df['SqFtDeck']"
   ]
  },
  {
<<<<<<< HEAD
   "cell_type": "markdown",
   "metadata": {},
   "source": [
    "## Removed outliers. \n",
=======
   "cell_type": "code",
   "execution_count": 81,
   "metadata": {},
   "outputs": [
    {
     "data": {
      "text/plain": [
       "count    1.926400e+04\n",
       "mean     7.944925e+05\n",
       "std      7.017017e+05\n",
       "min      1.000000e+01\n",
       "25%      4.650000e+05\n",
       "50%      6.544750e+05\n",
       "75%      9.020950e+05\n",
       "max      5.300000e+07\n",
       "Name: SalePrice, dtype: float64"
      ]
     },
     "execution_count": 81,
     "metadata": {},
     "output_type": "execute_result"
    }
   ],
   "source": [
    "df['SalePrice'].describe()"
   ]
  },
  {
   "cell_type": "markdown",
   "metadata": {},
   "source": [
    "## Let's remove outliers up front using a different method\n",
    "notes from meeting with Joél-\n",
>>>>>>> 29888298a83009b62280d111ab367d235c10e32a
    "\n",
    "set minimum price threshold at \\\\$200,000.\n",
    "\n",
    "set maximum price threshold at \\\\$9,000,000.\n",
    "\n",
<<<<<<< HEAD
    "notes from meeting with Joél-\n",
    "made decision based on hist and box plots ... unreadable becasue of outliers\n",
=======
    "\n",
    "made this decision based on reviewing hist and box plots of the data... unreadable becasue of outliers\n",
>>>>>>> 29888298a83009b62280d111ab367d235c10e32a
    "df.describe\n",
    "founf 75% threshold (9mil)\n",
    "minimum threshold based on quick Zillow search for home prices in KC\n",
    "not thorough investigation. Could be more accurate by rearching a Zillow data set or web scraping."
   ]
  },
  {
   "cell_type": "code",
<<<<<<< HEAD
   "execution_count": 157,
=======
   "execution_count": 94,
>>>>>>> 29888298a83009b62280d111ab367d235c10e32a
   "metadata": {},
   "outputs": [
    {
     "data": {
      "text/plain": [
<<<<<<< HEAD
       "19094"
      ]
     },
     "execution_count": 157,
=======
       "19078"
      ]
     },
     "execution_count": 94,
>>>>>>> 29888298a83009b62280d111ab367d235c10e32a
     "metadata": {},
     "output_type": "execute_result"
    }
   ],
   "source": [
<<<<<<< HEAD
    "df = df[(df.SalePrice<9000000)& (df.SalePrice>=200000)]\n",
    "df.shape[0]"
=======
    "dfn = df[(df.SalePrice<90000000)& (df.SalePrice>=200000)]\n",
    "dfn.shape[0]"
   ]
  },
  {
   "cell_type": "code",
   "execution_count": 95,
   "metadata": {},
   "outputs": [
    {
     "data": {
      "text/plain": [
       "count    1.907800e+04\n",
       "mean     7.884689e+05\n",
       "std      5.190959e+05\n",
       "min      2.000000e+05\n",
       "25%      4.700000e+05\n",
       "50%      6.569500e+05\n",
       "75%      9.050000e+05\n",
       "max      6.000000e+06\n",
       "Name: SalePrice, dtype: float64"
      ]
     },
     "execution_count": 95,
     "metadata": {},
     "output_type": "execute_result"
    }
   ],
   "source": [
    "dfn.SalePrice.describe()"
   ]
  },
  {
   "cell_type": "markdown",
   "metadata": {},
   "source": [
    "That removed 186outliers"
   ]
  },
  {
   "cell_type": "markdown",
   "metadata": {},
   "source": [
    "Let's run some models"
   ]
  },
  {
   "cell_type": "code",
   "execution_count": 119,
   "metadata": {},
   "outputs": [],
   "source": [
    "fsm_df = dfn[[\"SalePrice\", \"SqFtOpenPorch\", \"SqFtEnclosedPorch\", \"SqFtDeck\"]].copy()\n",
    "fsm_df.dropna(inplace=True)\n",
    "formula = 'SalePrice ~ SqFtOpenPorch+SqFtEnclosedPorch+SqFtDeck'\n",
    "fsm = ols(formula=formula, data=fsm_df).fit()"
   ]
  },
  {
   "cell_type": "code",
   "execution_count": 120,
   "metadata": {},
   "outputs": [
    {
     "data": {
      "text/plain": [
       "Intercept             0.000000e+00\n",
       "SqFtOpenPorch         0.000000e+00\n",
       "SqFtEnclosedPorch     1.280289e-01\n",
       "SqFtDeck             2.656214e-239\n",
       "dtype: float64"
      ]
     },
     "execution_count": 120,
     "metadata": {},
     "output_type": "execute_result"
    }
   ],
   "source": [
    "fsm.pvalues"
   ]
  },
  {
   "cell_type": "markdown",
   "metadata": {},
   "source": [
    "### Wow, again with tiny tiny p-values"
   ]
  },
  {
   "cell_type": "code",
   "execution_count": 122,
   "metadata": {},
   "outputs": [
    {
     "data": {
      "text/html": [
       "<table class=\"simpletable\">\n",
       "<caption>OLS Regression Results</caption>\n",
       "<tr>\n",
       "  <th>Dep. Variable:</th>        <td>SalePrice</td>    <th>  R-squared:         </th>  <td>   0.133</td>  \n",
       "</tr>\n",
       "<tr>\n",
       "  <th>Model:</th>                   <td>OLS</td>       <th>  Adj. R-squared:    </th>  <td>   0.133</td>  \n",
       "</tr>\n",
       "<tr>\n",
       "  <th>Method:</th>             <td>Least Squares</td>  <th>  F-statistic:       </th>  <td>   956.7</td>  \n",
       "</tr>\n",
       "<tr>\n",
       "  <th>Date:</th>             <td>Fri, 19 Jun 2020</td> <th>  Prob (F-statistic):</th>   <td>  0.00</td>   \n",
       "</tr>\n",
       "<tr>\n",
       "  <th>Time:</th>                 <td>16:36:54</td>     <th>  Log-Likelihood:    </th> <td>-2.7080e+05</td>\n",
       "</tr>\n",
       "<tr>\n",
       "  <th>No. Observations:</th>      <td> 18666</td>      <th>  AIC:               </th>  <td>5.416e+05</td> \n",
       "</tr>\n",
       "<tr>\n",
       "  <th>Df Residuals:</th>          <td> 18662</td>      <th>  BIC:               </th>  <td>5.416e+05</td> \n",
       "</tr>\n",
       "<tr>\n",
       "  <th>Df Model:</th>              <td>     3</td>      <th>                     </th>      <td> </td>     \n",
       "</tr>\n",
       "<tr>\n",
       "  <th>Covariance Type:</th>      <td>nonrobust</td>    <th>                     </th>      <td> </td>     \n",
       "</tr>\n",
       "</table>\n",
       "<table class=\"simpletable\">\n",
       "<tr>\n",
       "          <td></td>             <th>coef</th>     <th>std err</th>      <th>t</th>      <th>P>|t|</th>  <th>[0.025</th>    <th>0.975]</th>  \n",
       "</tr>\n",
       "<tr>\n",
       "  <th>Intercept</th>         <td> 6.421e+05</td> <td> 4590.411</td> <td>  139.874</td> <td> 0.000</td> <td> 6.33e+05</td> <td> 6.51e+05</td>\n",
       "</tr>\n",
       "<tr>\n",
       "  <th>SqFtOpenPorch</th>     <td> 1001.5404</td> <td>   23.721</td> <td>   42.221</td> <td> 0.000</td> <td>  955.045</td> <td> 1048.036</td>\n",
       "</tr>\n",
       "<tr>\n",
       "  <th>SqFtEnclosedPorch</th> <td>  147.5648</td> <td>   96.955</td> <td>    1.522</td> <td> 0.128</td> <td>  -42.476</td> <td>  337.606</td>\n",
       "</tr>\n",
       "<tr>\n",
       "  <th>SqFtDeck</th>          <td>  556.3663</td> <td>   16.596</td> <td>   33.523</td> <td> 0.000</td> <td>  523.836</td> <td>  588.897</td>\n",
       "</tr>\n",
       "</table>\n",
       "<table class=\"simpletable\">\n",
       "<tr>\n",
       "  <th>Omnibus:</th>       <td>11695.583</td> <th>  Durbin-Watson:     </th>  <td>   1.041</td> \n",
       "</tr>\n",
       "<tr>\n",
       "  <th>Prob(Omnibus):</th>  <td> 0.000</td>   <th>  Jarque-Bera (JB):  </th> <td>604838.095</td>\n",
       "</tr>\n",
       "<tr>\n",
       "  <th>Skew:</th>           <td> 2.346</td>   <th>  Prob(JB):          </th>  <td>    0.00</td> \n",
       "</tr>\n",
       "<tr>\n",
       "  <th>Kurtosis:</th>       <td>30.489</td>   <th>  Cond. No.          </th>  <td>    335.</td> \n",
       "</tr>\n",
       "</table><br/><br/>Warnings:<br/>[1] Standard Errors assume that the covariance matrix of the errors is correctly specified."
      ],
      "text/plain": [
       "<class 'statsmodels.iolib.summary.Summary'>\n",
       "\"\"\"\n",
       "                            OLS Regression Results                            \n",
       "==============================================================================\n",
       "Dep. Variable:              SalePrice   R-squared:                       0.133\n",
       "Model:                            OLS   Adj. R-squared:                  0.133\n",
       "Method:                 Least Squares   F-statistic:                     956.7\n",
       "Date:                Fri, 19 Jun 2020   Prob (F-statistic):               0.00\n",
       "Time:                        16:36:54   Log-Likelihood:            -2.7080e+05\n",
       "No. Observations:               18666   AIC:                         5.416e+05\n",
       "Df Residuals:                   18662   BIC:                         5.416e+05\n",
       "Df Model:                           3                                         \n",
       "Covariance Type:            nonrobust                                         \n",
       "=====================================================================================\n",
       "                        coef    std err          t      P>|t|      [0.025      0.975]\n",
       "-------------------------------------------------------------------------------------\n",
       "Intercept          6.421e+05   4590.411    139.874      0.000    6.33e+05    6.51e+05\n",
       "SqFtOpenPorch      1001.5404     23.721     42.221      0.000     955.045    1048.036\n",
       "SqFtEnclosedPorch   147.5648     96.955      1.522      0.128     -42.476     337.606\n",
       "SqFtDeck            556.3663     16.596     33.523      0.000     523.836     588.897\n",
       "==============================================================================\n",
       "Omnibus:                    11695.583   Durbin-Watson:                   1.041\n",
       "Prob(Omnibus):                  0.000   Jarque-Bera (JB):           604838.095\n",
       "Skew:                           2.346   Prob(JB):                         0.00\n",
       "Kurtosis:                      30.489   Cond. No.                         335.\n",
       "==============================================================================\n",
       "\n",
       "Warnings:\n",
       "[1] Standard Errors assume that the covariance matrix of the errors is correctly specified.\n",
       "\"\"\""
      ]
     },
     "execution_count": 122,
     "metadata": {},
     "output_type": "execute_result"
    }
   ],
   "source": [
    "fsm.summary()"
   ]
  },
  {
   "cell_type": "markdown",
   "metadata": {},
   "source": [
    "R^2 is incrementally better than it was with the combined \"Outdoor Space\".\n",
    "\n",
    "Pretty big coeffecients for Deck and Open Porch, but again, p-value of 0.00"
   ]
  },
  {
   "cell_type": "markdown",
   "metadata": {},
   "source": [
    "### What does homoscedasticity say?"
   ]
  },
  {
   "cell_type": "code",
   "execution_count": 125,
   "metadata": {},
   "outputs": [
    {
     "data": {
      "image/png": "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\n",
      "text/plain": [
       "<Figure size 720x432 with 1 Axes>"
      ]
     },
     "metadata": {},
     "output_type": "display_data"
    }
   ],
   "source": [
    "fsm_resids = fsm.resid\n",
    "y_hat = fsm.predict()\n",
    "fig, ax = plt.subplots(figsize=(10,6))\n",
    "ax.scatter(y_hat, fsm_resids);"
   ]
  },
  {
   "cell_type": "markdown",
   "metadata": {},
   "source": [
    "Still got some crazy outlier."
   ]
  },
  {
   "cell_type": "markdown",
   "metadata": {},
   "source": [
    "### Q-Q plot?"
   ]
  },
  {
   "cell_type": "code",
   "execution_count": 126,
   "metadata": {
    "jupyter": {
     "source_hidden": true
    }
   },
   "outputs": [
    {
     "data": {
      "image/png": "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\n",
      "text/plain": [
       "<Figure size 1080x720 with 1 Axes>"
      ]
     },
     "execution_count": 126,
     "metadata": {},
     "output_type": "execute_result"
    },
    {
     "data": {
      "image/png": "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\n",
      "text/plain": [
       "<Figure size 1080x720 with 1 Axes>"
      ]
     },
     "metadata": {},
     "output_type": "display_data"
    }
   ],
   "source": [
    "sm.qqplot(fsm_resids)"
   ]
  },
  {
   "cell_type": "markdown",
   "metadata": {},
   "source": [
    "#### OOf"
   ]
  },
  {
   "cell_type": "markdown",
   "metadata": {},
   "source": [
    "#### just to be thorough, let's do them all..."
   ]
  },
  {
   "cell_type": "code",
   "execution_count": 127,
   "metadata": {},
   "outputs": [
    {
     "data": {
      "text/plain": [
       "[('JB', 604838.0952269164),\n",
       " ('Prob', 0.0),\n",
       " ('Skew', 2.345653212441185),\n",
       " ('Kurtosis', 30.48942338018566)]"
      ]
     },
     "execution_count": 127,
     "metadata": {},
     "output_type": "execute_result"
    }
   ],
   "source": [
    "name = ['JB', 'Prob', 'Skew', 'Kurtosis']\n",
    "test = sms.jarque_bera(fsm.resid)\n",
    "list(zip(name, test))"
   ]
  },
  {
   "cell_type": "markdown",
   "metadata": {},
   "source": [
    "Why am I not surprised?"
   ]
  },
  {
   "cell_type": "markdown",
   "metadata": {},
   "source": [
    "### Get some stats now"
>>>>>>> 29888298a83009b62280d111ab367d235c10e32a
   ]
  },
  {
   "cell_type": "markdown",
   "metadata": {},
   "source": [
    "### Calculate the Mean Sale Price for Each category"
   ]
  },
  {
   "cell_type": "code",
<<<<<<< HEAD
   "execution_count": 158,
=======
   "execution_count": 107,
>>>>>>> 29888298a83009b62280d111ab367d235c10e32a
   "metadata": {},
   "outputs": [
    {
     "name": "stdout",
     "output_type": "stream",
     "text": [
<<<<<<< HEAD
      "There are 8810 houses. \n",
      "      The mean Sale Price is 867140.53.\n",
=======
      "There are 8800 houses. \n",
      "      The mean Sale Price is 859989.55.\n",
>>>>>>> 29888298a83009b62280d111ab367d235c10e32a
      "      \n"
     ]
    }
   ],
   "source": [
<<<<<<< HEAD
    "deck = df[df.SqFtDeck > 0]\n",
=======
    "deck = dfn[dfn.SqFtDeck > 0]\n",
>>>>>>> 29888298a83009b62280d111ab367d235c10e32a
    "print(f'''There are {deck.SalePrice.count()} houses. \n",
    "      The mean Sale Price is {round(deck.SalePrice.mean(),2)}.\n",
    "      ''')"
   ]
  },
  {
   "cell_type": "code",
<<<<<<< HEAD
   "execution_count": 159,
=======
   "execution_count": 108,
>>>>>>> 29888298a83009b62280d111ab367d235c10e32a
   "metadata": {},
   "outputs": [
    {
     "name": "stdout",
     "output_type": "stream",
     "text": [
<<<<<<< HEAD
      "There are 9420 houses. \n",
      "      The mean Sale Price is 907577.68.\n",
=======
      "There are 9410 houses. \n",
      "      The mean Sale Price is 900970.96.\n",
>>>>>>> 29888298a83009b62280d111ab367d235c10e32a
      "     \n"
     ]
    }
   ],
   "source": [
<<<<<<< HEAD
    "open_porch = df[df.SqFtOpenPorch > 0]\n",
=======
    "open_porch = dfn[dfn.SqFtOpenPorch > 0]\n",
>>>>>>> 29888298a83009b62280d111ab367d235c10e32a
    "print(f'''There are {open_porch.SalePrice.count()} houses. \n",
    "      The mean Sale Price is {round(open_porch.SalePrice.mean(),2)}.\n",
    "     ''')"
   ]
  },
  {
   "cell_type": "code",
<<<<<<< HEAD
   "execution_count": 160,
=======
   "execution_count": 109,
>>>>>>> 29888298a83009b62280d111ab367d235c10e32a
   "metadata": {},
   "outputs": [
    {
     "name": "stdout",
     "output_type": "stream",
     "text": [
<<<<<<< HEAD
      "There are 794 houses.\n",
      "      The mean Sale Price is 771770.65.\n",
=======
      "There are 793 houses.\n",
      "      The mean Sale Price is 764042.74.\n",
>>>>>>> 29888298a83009b62280d111ab367d235c10e32a
      "     \n"
     ]
    }
   ],
   "source": [
<<<<<<< HEAD
    "encl_porch = df[df.SqFtEnclosedPorch > 0]\n",
=======
    "encl_porch = dfn[dfn.SqFtEnclosedPorch > 0]\n",
>>>>>>> 29888298a83009b62280d111ab367d235c10e32a
    "print(f'''There are {encl_porch.SalePrice.count()} houses.\n",
    "      The mean Sale Price is {round(encl_porch.SalePrice.mean(),2)}.\n",
    "     ''')"
   ]
  },
  {
   "cell_type": "code",
<<<<<<< HEAD
   "execution_count": 161,
=======
   "execution_count": 110,
>>>>>>> 29888298a83009b62280d111ab367d235c10e32a
   "metadata": {},
   "outputs": [
    {
     "name": "stdout",
     "output_type": "stream",
     "text": [
<<<<<<< HEAD
      "There are 4513 houses.\n",
      "      The mean Sale Price is 625368.78.\n",
=======
      "There are 4099 houses.\n",
      "      The mean Sale Price is 623551.0.\n",
>>>>>>> 29888298a83009b62280d111ab367d235c10e32a
      "     \n"
     ]
    }
   ],
   "source": [
<<<<<<< HEAD
    "no_out = df[df.OutdoorSpace == 0]\n",
=======
    "no_out = dfn[dfn.OutdoorSpace == 0]\n",
>>>>>>> 29888298a83009b62280d111ab367d235c10e32a
    "print(f'''There are {no_out.SalePrice.count()} houses.\n",
    "      The mean Sale Price is {round(no_out.SalePrice.mean(),2)}.\n",
    "     ''')"
   ]
  },
  {
   "cell_type": "code",
<<<<<<< HEAD
   "execution_count": 162,
=======
   "execution_count": 111,
>>>>>>> 29888298a83009b62280d111ab367d235c10e32a
   "metadata": {},
   "outputs": [
    {
     "name": "stdout",
     "output_type": "stream",
     "text": [
<<<<<<< HEAD
      "There are 14581 houses.\n",
      "      The mean Sale Price is 846023.32.\n",
=======
      "There are 14567 houses.\n",
      "      The mean Sale Price is 839982.22.\n",
>>>>>>> 29888298a83009b62280d111ab367d235c10e32a
      "     \n"
     ]
    }
   ],
   "source": [
<<<<<<< HEAD
    "yes_out = df[df.OutdoorSpace > 0]\n",
=======
    "yes_out = dfn[dfn.OutdoorSpace > 0]\n",
>>>>>>> 29888298a83009b62280d111ab367d235c10e32a
    "print(f'''There are {yes_out.SalePrice.count()} houses.\n",
    "      The mean Sale Price is {round(yes_out.SalePrice.mean(),2)}.\n",
    "     ''')"
   ]
  },
  {
   "cell_type": "code",
<<<<<<< HEAD
   "execution_count": 164,
=======
   "execution_count": 112,
>>>>>>> 29888298a83009b62280d111ab367d235c10e32a
   "metadata": {},
   "outputs": [
    {
     "name": "stdout",
     "output_type": "stream",
     "text": [
<<<<<<< HEAD
      "The sample contains 1000 observations, having a mean of 640505.103 and a standard deviation 448682.86677539314 with 999 degrees of freedom. The difference between the sample and population mean is: 15136.319707290037\n"
=======
      "The sample contains 1000 observations, having a mean of 623127.312 and a standard deviation 354482.01362084417 with 999 degrees of freedom. The difference between the sample and population mean is: -423.6901956574293\n"
>>>>>>> 29888298a83009b62280d111ab367d235c10e32a
     ]
    }
   ],
   "source": [
    "import seaborn as sns\n",
    "import matplotlib.pyplot as plt\n",
    "sample = no_out.SalePrice.sample(n=1000, random_state=3)\n",
    "\n",
    "# Population mean\n",
    "mu = no_out.SalePrice.mean()\n",
    "\n",
    "#Sample mean\n",
    "x_bar = sample.mean()\n",
    "\n",
    "# Sample standard deviation\n",
    "sigma = np.std(sample,ddof=1)\n",
    "\n",
    "#Sample size (n)\n",
    "n= len(sample)\n",
    "\n",
    "#Degrees of Freedom\n",
    "df = n-1\n",
    "\n",
    "#Difference in sample mean\n",
    "diff = x_bar-mu\n",
    "\n",
    "#The findings\n",
    "print ('The sample contains', n, 'observations, having a mean of', x_bar, 'and a standard deviation' ,sigma, 'with', df, 'degrees of freedom. The difference between the sample and population mean is:', diff)"
   ]
  },
  {
   "cell_type": "code",
<<<<<<< HEAD
   "execution_count": 165,
=======
   "execution_count": 115,
>>>>>>> 29888298a83009b62280d111ab367d235c10e32a
   "metadata": {},
   "outputs": [
    {
     "data": {
      "text/plain": [
<<<<<<< HEAD
       "<matplotlib.axes._subplots.AxesSubplot at 0x7f9c4def70b8>"
      ]
     },
     "execution_count": 165,
=======
       "<matplotlib.axes._subplots.AxesSubplot at 0x7f860c8150f0>"
      ]
     },
     "execution_count": 115,
>>>>>>> 29888298a83009b62280d111ab367d235c10e32a
     "metadata": {},
     "output_type": "execute_result"
    },
    {
     "data": {
<<<<<<< HEAD
      "image/png": "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\n",
      "text/plain": [
       "<Figure size 864x720 with 1 Axes>"
=======
      "image/png": "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\n",
      "text/plain": [
       "<Figure size 1080x720 with 1 Axes>"
>>>>>>> 29888298a83009b62280d111ab367d235c10e32a
      ]
     },
     "metadata": {},
     "output_type": "display_data"
    }
   ],
   "source": [
    "sns.set(color_codes=True)\n",
<<<<<<< HEAD
    "sns.set(rc={'figure.figsize':(12,10)})\n",
=======
    "sns.set(rc={'figure.figsize':(15,10)})\n",
>>>>>>> 29888298a83009b62280d111ab367d235c10e32a
    "sns.distplot(yes_out.SalePrice.values)"
   ]
  },
  {
   "cell_type": "code",
<<<<<<< HEAD
   "execution_count": null,
   "metadata": {},
   "outputs": [],
   "source": []
  },
  {
   "cell_type": "code",
   "execution_count": 102,
   "metadata": {
    "jupyter": {
     "source_hidden": true
    }
   },
   "outputs": [],
=======
   "execution_count": 116,
   "metadata": {},
   "outputs": [],
>>>>>>> 29888298a83009b62280d111ab367d235c10e32a
   "source": [
    "control = no_out.SalePrice.values\n",
    "exper = yes_out.SalePrice.values"
   ]
  },
  {
   "cell_type": "code",
<<<<<<< HEAD
   "execution_count": 104,
   "metadata": {
    "collapsed": true,
    "jupyter": {
     "outputs_hidden": true,
     "source_hidden": true
    }
   },
=======
   "execution_count": 117,
   "metadata": {},
>>>>>>> 29888298a83009b62280d111ab367d235c10e32a
   "outputs": [
    {
     "data": {
      "text/plain": [
<<<<<<< HEAD
       "Ttest_indResult(statistic=15.724866426845598, pvalue=1.1639242532430853e-54)"
      ]
     },
     "execution_count": 104,
=======
       "Ttest_indResult(statistic=-30.175819858595407, pvalue=1.2868329804061777e-191)"
      ]
     },
     "execution_count": 117,
>>>>>>> 29888298a83009b62280d111ab367d235c10e32a
     "metadata": {},
     "output_type": "execute_result"
    }
   ],
   "source": [
<<<<<<< HEAD
    "stats.ttest_ind(yes_set, no_set, equal_var=False)"
   ]
=======
    "stats.ttest_ind(control, exper, equal_var=False)"
   ]
  },
  {
   "cell_type": "markdown",
   "metadata": {},
   "source": [
    "### I think we can call this for the Null Hypothesis."
   ]
  },
  {
   "cell_type": "code",
   "execution_count": null,
   "metadata": {},
   "outputs": [],
   "source": []
>>>>>>> 29888298a83009b62280d111ab367d235c10e32a
  }
 ],
 "metadata": {
  "kernelspec": {
   "display_name": "learn-env",
   "language": "python",
   "name": "learn-env"
  },
  "language_info": {
   "codemirror_mode": {
    "name": "ipython",
    "version": 3
   },
   "file_extension": ".py",
   "mimetype": "text/x-python",
   "name": "python",
   "nbconvert_exporter": "python",
   "pygments_lexer": "ipython3",
   "version": "3.6.9"
  }
 },
 "nbformat": 4,
 "nbformat_minor": 4
}
