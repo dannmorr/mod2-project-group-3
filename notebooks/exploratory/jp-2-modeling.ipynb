{
 "cells": [
  {
   "cell_type": "markdown",
   "metadata": {},
   "source": [
    "### Make necessary imports"
   ]
  },
  {
   "cell_type": "code",
   "execution_count": 1,
   "metadata": {},
   "outputs": [],
   "source": [
    "import numpy as np\n",
    "import matplotlib.pyplot as plt\n",
    "import seaborn as sns\n",
    "import pandas as pd\n",
    "from statsmodels.formula.api import ols\n",
    "import statsmodels.api as sm\n",
    "from statsmodels.stats.outliers_influence import OLSInfluence\n",
    "\n",
    "%matplotlib inline\n",
    "plt.style.use('ggplot')\n",
    "\n",
    "#from ltests import model"
   ]
  },
  {
   "cell_type": "markdown",
   "metadata": {},
   "source": [
    "### Import our combined csv into a DataFrame"
   ]
  },
  {
   "cell_type": "code",
   "execution_count": 2,
   "metadata": {},
   "outputs": [],
   "source": [
    "raw = pd.read_csv('../../data/master.csv', low_memory=False, dtype={'id': object})"
   ]
  },
  {
   "cell_type": "markdown",
   "metadata": {},
   "source": [
    "### We would like to select only those entries that have a sale price greater than 0"
   ]
  },
  {
   "cell_type": "code",
   "execution_count": 3,
   "metadata": {},
   "outputs": [],
   "source": [
    "raw = raw[raw.SalePrice > 0]"
   ]
  },
  {
   "cell_type": "markdown",
   "metadata": {},
   "source": [
    "### Now we select the sales with the proper PropertyType codes\n",
    "The following is interest to us:\n",
    " - 11: Household, single family units\n",
    "\n",
    "These are not because they don't help us answer our questions about homeownership\n",
    "\n",
    " - 12: Multiple family residence (Residential, 2-4 units)\n",
    " - 13: Multiple family residence (Residential, 5+ units)\n",
    " - 14: Residential condominiums\n",
    "  \n",
    "*These codes can be found in the Lookup.zip file located at*\n",
    "\n",
    "https://info.kingcounty.gov/assessor/DataDownload/default.aspx "
   ]
  },
  {
   "cell_type": "code",
   "execution_count": 4,
   "metadata": {},
   "outputs": [],
   "source": [
    "proptypes = [11]\n",
    "\n",
    "df = raw[raw.PropertyType.isin(proptypes)]"
   ]
  },
  {
   "cell_type": "code",
   "execution_count": 5,
   "metadata": {},
   "outputs": [
    {
     "data": {
      "text/plain": [
       "count    2.217000e+03\n",
       "mean     4.537666e+05\n",
       "std      2.872387e+05\n",
       "min      5.100000e+04\n",
       "25%      2.800000e+05\n",
       "50%      3.800000e+05\n",
       "75%      5.500000e+05\n",
       "max      4.500000e+06\n",
       "Name: SalePrice, dtype: float64"
      ]
     },
     "execution_count": 5,
     "metadata": {},
     "output_type": "execute_result"
    }
   ],
   "source": [
    "raw[raw.PropertyType == 14].SalePrice.describe()"
   ]
  },
  {
   "cell_type": "markdown",
   "metadata": {},
   "source": [
    "### Generate our first simple model of Sale Price vs Sqft of Living Space"
   ]
  },
  {
   "cell_type": "code",
   "execution_count": 6,
   "metadata": {},
   "outputs": [],
   "source": [
    "fsm_df = df[[\"SalePrice\", \"SqFtTotLiving\"]].copy()\n",
    "fsm_df.dropna(inplace=True)\n",
    "formula = 'SalePrice ~ SqFtTotLiving'\n",
    "fsm = ols(formula=formula, data=fsm_df).fit()"
   ]
  },
  {
   "cell_type": "markdown",
   "metadata": {},
   "source": [
    "Let's see that big table"
   ]
  },
  {
   "cell_type": "code",
   "execution_count": 7,
   "metadata": {},
   "outputs": [
    {
     "data": {
      "text/html": [
       "<table class=\"simpletable\">\n",
       "<caption>OLS Regression Results</caption>\n",
       "<tr>\n",
       "  <th>Dep. Variable:</th>        <td>SalePrice</td>    <th>  R-squared:         </th>  <td>   0.387</td>  \n",
       "</tr>\n",
       "<tr>\n",
       "  <th>Model:</th>                   <td>OLS</td>       <th>  Adj. R-squared:    </th>  <td>   0.387</td>  \n",
       "</tr>\n",
       "<tr>\n",
       "  <th>Method:</th>             <td>Least Squares</td>  <th>  F-statistic:       </th>  <td>1.187e+04</td> \n",
       "</tr>\n",
       "<tr>\n",
       "  <th>Date:</th>             <td>Thu, 18 Jun 2020</td> <th>  Prob (F-statistic):</th>   <td>  0.00</td>   \n",
       "</tr>\n",
       "<tr>\n",
       "  <th>Time:</th>                 <td>10:50:49</td>     <th>  Log-Likelihood:    </th> <td>-2.7203e+05</td>\n",
       "</tr>\n",
       "<tr>\n",
       "  <th>No. Observations:</th>      <td> 18807</td>      <th>  AIC:               </th>  <td>5.441e+05</td> \n",
       "</tr>\n",
       "<tr>\n",
       "  <th>Df Residuals:</th>          <td> 18805</td>      <th>  BIC:               </th>  <td>5.441e+05</td> \n",
       "</tr>\n",
       "<tr>\n",
       "  <th>Df Model:</th>              <td>     1</td>      <th>                     </th>      <td> </td>     \n",
       "</tr>\n",
       "<tr>\n",
       "  <th>Covariance Type:</th>      <td>nonrobust</td>    <th>                     </th>      <td> </td>     \n",
       "</tr>\n",
       "</table>\n",
       "<table class=\"simpletable\">\n",
       "<tr>\n",
       "        <td></td>           <th>coef</th>     <th>std err</th>      <th>t</th>      <th>P>|t|</th>  <th>[0.025</th>    <th>0.975]</th>  \n",
       "</tr>\n",
       "<tr>\n",
       "  <th>Intercept</th>     <td>-1.591e+04</td> <td> 8189.002</td> <td>   -1.942</td> <td> 0.052</td> <td> -3.2e+04</td> <td>  144.477</td>\n",
       "</tr>\n",
       "<tr>\n",
       "  <th>SqFtTotLiving</th> <td>  378.6638</td> <td>    3.476</td> <td>  108.935</td> <td> 0.000</td> <td>  371.850</td> <td>  385.477</td>\n",
       "</tr>\n",
       "</table>\n",
       "<table class=\"simpletable\">\n",
       "<tr>\n",
       "  <th>Omnibus:</th>       <td>24151.837</td> <th>  Durbin-Watson:     </th>   <td>   1.118</td>  \n",
       "</tr>\n",
       "<tr>\n",
       "  <th>Prob(Omnibus):</th>  <td> 0.000</td>   <th>  Jarque-Bera (JB):  </th> <td>12404873.130</td>\n",
       "</tr>\n",
       "<tr>\n",
       "  <th>Skew:</th>           <td> 6.729</td>   <th>  Prob(JB):          </th>   <td>    0.00</td>  \n",
       "</tr>\n",
       "<tr>\n",
       "  <th>Kurtosis:</th>       <td>128.096</td>  <th>  Cond. No.          </th>   <td>5.72e+03</td>  \n",
       "</tr>\n",
       "</table><br/><br/>Warnings:<br/>[1] Standard Errors assume that the covariance matrix of the errors is correctly specified.<br/>[2] The condition number is large, 5.72e+03. This might indicate that there are<br/>strong multicollinearity or other numerical problems."
      ],
      "text/plain": [
       "<class 'statsmodels.iolib.summary.Summary'>\n",
       "\"\"\"\n",
       "                            OLS Regression Results                            \n",
       "==============================================================================\n",
       "Dep. Variable:              SalePrice   R-squared:                       0.387\n",
       "Model:                            OLS   Adj. R-squared:                  0.387\n",
       "Method:                 Least Squares   F-statistic:                 1.187e+04\n",
       "Date:                Thu, 18 Jun 2020   Prob (F-statistic):               0.00\n",
       "Time:                        10:50:49   Log-Likelihood:            -2.7203e+05\n",
       "No. Observations:               18807   AIC:                         5.441e+05\n",
       "Df Residuals:                   18805   BIC:                         5.441e+05\n",
       "Df Model:                           1                                         \n",
       "Covariance Type:            nonrobust                                         \n",
       "=================================================================================\n",
       "                    coef    std err          t      P>|t|      [0.025      0.975]\n",
       "---------------------------------------------------------------------------------\n",
       "Intercept     -1.591e+04   8189.002     -1.942      0.052    -3.2e+04     144.477\n",
       "SqFtTotLiving   378.6638      3.476    108.935      0.000     371.850     385.477\n",
       "==============================================================================\n",
       "Omnibus:                    24151.837   Durbin-Watson:                   1.118\n",
       "Prob(Omnibus):                  0.000   Jarque-Bera (JB):         12404873.130\n",
       "Skew:                           6.729   Prob(JB):                         0.00\n",
       "Kurtosis:                     128.096   Cond. No.                     5.72e+03\n",
       "==============================================================================\n",
       "\n",
       "Warnings:\n",
       "[1] Standard Errors assume that the covariance matrix of the errors is correctly specified.\n",
       "[2] The condition number is large, 5.72e+03. This might indicate that there are\n",
       "strong multicollinearity or other numerical problems.\n",
       "\"\"\""
      ]
     },
     "execution_count": 7,
     "metadata": {},
     "output_type": "execute_result"
    }
   ],
   "source": [
    "fsm.summary()"
   ]
  },
  {
   "cell_type": "markdown",
   "metadata": {},
   "source": [
    "**Not bad, let's check homoscedasticity**"
   ]
  },
  {
   "cell_type": "code",
   "execution_count": 8,
   "metadata": {},
   "outputs": [
    {
     "data": {
      "image/png": "[encoded data removed]",
      "text/plain": [
       "<Figure size 720x432 with 1 Axes>"
      ]
     },
     "metadata": {
      "needs_background": "light"
     },
     "output_type": "display_data"
    }
   ],
   "source": [
    "fsm_resids = fsm.resid\n",
    "y_hat = fsm.predict()\n",
    "fig, ax = plt.subplots(figsize=(10,6))\n",
    "ax.scatter(y_hat, fsm_resids);"
   ]
  },
  {
   "cell_type": "markdown",
   "metadata": {},
   "source": [
    " - from this picture it apppears that our model is a worse predictor as homes go above 1 million dollars\n",
    " \n",
    "**Let's check normality**"
   ]
  },
  {
   "cell_type": "code",
   "execution_count": 9,
   "metadata": {},
   "outputs": [
    {
     "data": {
      "image/png": "[encoded data removed]",
      "text/plain": [
       "<Figure size 432x288 with 1 Axes>"
      ]
     },
     "execution_count": 9,
     "metadata": {},
     "output_type": "execute_result"
    },
    {
     "data": {
      "image/png": "[encoded data removed]",
      "text/plain": [
       "<Figure size 432x288 with 1 Axes>"
      ]
     },
     "metadata": {
      "needs_background": "light"
     },
     "output_type": "display_data"
    }
   ],
   "source": [
    "sm.qqplot(fsm_resids)"
   ]
  },
  {
   "cell_type": "markdown",
   "metadata": {},
   "source": [
    " - The eyeball test here is to look for a straight line, which it clearly is not!\n",
    " - This is supported by the JB p-value in the above summary table, which tells us that this is not normally distributed"
   ]
  },
  {
   "cell_type": "markdown",
   "metadata": {},
   "source": [
    "### Let's try do drop some outliers \n",
    "\n",
    "let's remove elements with a z-score outsize of [-3,3] in either the sale price or the square foot columns"
   ]
  },
  {
   "cell_type": "code",
   "execution_count": 10,
   "metadata": {},
   "outputs": [],
   "source": [
    "from scipy import stats\n",
    "ssm_df = fsm_df[(np.abs(stats.zscore(fsm_df)) < 3).all(axis=1)]"
   ]
  },
  {
   "cell_type": "code",
   "execution_count": 11,
   "metadata": {},
   "outputs": [],
   "source": [
    "formula = 'SalePrice ~ SqFtTotLiving'\n",
    "ssm = ols(formula=formula, data=ssm_df).fit()"
   ]
  },
  {
   "cell_type": "code",
   "execution_count": 12,
   "metadata": {},
   "outputs": [
    {
     "data": {
      "text/html": [
       "<table class=\"simpletable\">\n",
       "<caption>OLS Regression Results</caption>\n",
       "<tr>\n",
       "  <th>Dep. Variable:</th>        <td>SalePrice</td>    <th>  R-squared:         </th>  <td>   0.378</td>  \n",
       "</tr>\n",
       "<tr>\n",
       "  <th>Model:</th>                   <td>OLS</td>       <th>  Adj. R-squared:    </th>  <td>   0.378</td>  \n",
       "</tr>\n",
       "<tr>\n",
       "  <th>Method:</th>             <td>Least Squares</td>  <th>  F-statistic:       </th>  <td>1.116e+04</td> \n",
       "</tr>\n",
       "<tr>\n",
       "  <th>Date:</th>             <td>Thu, 18 Jun 2020</td> <th>  Prob (F-statistic):</th>   <td>  0.00</td>   \n",
       "</tr>\n",
       "<tr>\n",
       "  <th>Time:</th>                 <td>10:50:50</td>     <th>  Log-Likelihood:    </th> <td>-2.5776e+05</td>\n",
       "</tr>\n",
       "<tr>\n",
       "  <th>No. Observations:</th>      <td> 18360</td>      <th>  AIC:               </th>  <td>5.155e+05</td> \n",
       "</tr>\n",
       "<tr>\n",
       "  <th>Df Residuals:</th>          <td> 18358</td>      <th>  BIC:               </th>  <td>5.155e+05</td> \n",
       "</tr>\n",
       "<tr>\n",
       "  <th>Df Model:</th>              <td>     1</td>      <th>                     </th>      <td> </td>     \n",
       "</tr>\n",
       "<tr>\n",
       "  <th>Covariance Type:</th>      <td>nonrobust</td>    <th>                     </th>      <td> </td>     \n",
       "</tr>\n",
       "</table>\n",
       "<table class=\"simpletable\">\n",
       "<tr>\n",
       "        <td></td>           <th>coef</th>     <th>std err</th>      <th>t</th>      <th>P>|t|</th>  <th>[0.025</th>    <th>0.975]</th>  \n",
       "</tr>\n",
       "<tr>\n",
       "  <th>Intercept</th>     <td> 1.587e+05</td> <td> 5933.069</td> <td>   26.755</td> <td> 0.000</td> <td> 1.47e+05</td> <td>  1.7e+05</td>\n",
       "</tr>\n",
       "<tr>\n",
       "  <th>SqFtTotLiving</th> <td>  279.5570</td> <td>    2.646</td> <td>  105.664</td> <td> 0.000</td> <td>  274.371</td> <td>  284.743</td>\n",
       "</tr>\n",
       "</table>\n",
       "<table class=\"simpletable\">\n",
       "<tr>\n",
       "  <th>Omnibus:</th>       <td>3717.266</td> <th>  Durbin-Watson:     </th> <td>   0.892</td>\n",
       "</tr>\n",
       "<tr>\n",
       "  <th>Prob(Omnibus):</th>  <td> 0.000</td>  <th>  Jarque-Bera (JB):  </th> <td>9797.794</td>\n",
       "</tr>\n",
       "<tr>\n",
       "  <th>Skew:</th>           <td> 1.097</td>  <th>  Prob(JB):          </th> <td>    0.00</td>\n",
       "</tr>\n",
       "<tr>\n",
       "  <th>Kurtosis:</th>       <td> 5.827</td>  <th>  Cond. No.          </th> <td>5.96e+03</td>\n",
       "</tr>\n",
       "</table><br/><br/>Warnings:<br/>[1] Standard Errors assume that the covariance matrix of the errors is correctly specified.<br/>[2] The condition number is large, 5.96e+03. This might indicate that there are<br/>strong multicollinearity or other numerical problems."
      ],
      "text/plain": [
       "<class 'statsmodels.iolib.summary.Summary'>\n",
       "\"\"\"\n",
       "                            OLS Regression Results                            \n",
       "==============================================================================\n",
       "Dep. Variable:              SalePrice   R-squared:                       0.378\n",
       "Model:                            OLS   Adj. R-squared:                  0.378\n",
       "Method:                 Least Squares   F-statistic:                 1.116e+04\n",
       "Date:                Thu, 18 Jun 2020   Prob (F-statistic):               0.00\n",
       "Time:                        10:50:50   Log-Likelihood:            -2.5776e+05\n",
       "No. Observations:               18360   AIC:                         5.155e+05\n",
       "Df Residuals:                   18358   BIC:                         5.155e+05\n",
       "Df Model:                           1                                         \n",
       "Covariance Type:            nonrobust                                         \n",
       "=================================================================================\n",
       "                    coef    std err          t      P>|t|      [0.025      0.975]\n",
       "---------------------------------------------------------------------------------\n",
       "Intercept      1.587e+05   5933.069     26.755      0.000    1.47e+05     1.7e+05\n",
       "SqFtTotLiving   279.5570      2.646    105.664      0.000     274.371     284.743\n",
       "==============================================================================\n",
       "Omnibus:                     3717.266   Durbin-Watson:                   0.892\n",
       "Prob(Omnibus):                  0.000   Jarque-Bera (JB):             9797.794\n",
       "Skew:                           1.097   Prob(JB):                         0.00\n",
       "Kurtosis:                       5.827   Cond. No.                     5.96e+03\n",
       "==============================================================================\n",
       "\n",
       "Warnings:\n",
       "[1] Standard Errors assume that the covariance matrix of the errors is correctly specified.\n",
       "[2] The condition number is large, 5.96e+03. This might indicate that there are\n",
       "strong multicollinearity or other numerical problems.\n",
       "\"\"\""
      ]
     },
     "execution_count": 12,
     "metadata": {},
     "output_type": "execute_result"
    }
   ],
   "source": [
    "ssm.summary()"
   ]
  },
  {
   "cell_type": "markdown",
   "metadata": {},
   "source": [
    "### looks like we have a very different coefficient, but no improvement in the R^2"
   ]
  },
  {
   "cell_type": "markdown",
   "metadata": {},
   "source": [
    "ssm_resids = ssm.resid\n",
    "y_hat = ssm.predict()\n",
    "fig, ax = plt.subplots(figsize=(10,6))\n",
    "ax.scatter(y_hat, ssm_resids);"
   ]
  },
  {
   "cell_type": "code",
   "execution_count": 13,
   "metadata": {},
   "outputs": [
    {
     "data": {
      "image/png": "[encoded data removed]",
      "text/plain": [
       "<Figure size 432x288 with 1 Axes>"
      ]
     },
     "execution_count": 13,
     "metadata": {},
     "output_type": "execute_result"
    },
    {
     "data": {
      "image/png": "[encoded data removed]",
      "text/plain": [
       "<Figure size 432x288 with 1 Axes>"
      ]
     },
     "metadata": {
      "needs_background": "light"
     },
     "output_type": "display_data"
    }
   ],
   "source": [
    "sm.qqplot(fsm_resids)"
   ]
  },
  {
   "cell_type": "markdown",
   "metadata": {},
   "source": []
  },
  {
   "cell_type": "code",
   "execution_count": null,
   "metadata": {},
   "outputs": [],
   "source": []
  },
  {
   "cell_type": "markdown",
   "metadata": {},
   "source": [
    "### Let's look at our footprint column again\n",
    "we created the footprint column by taking the first floor square footage, and diving by the lot size"
   ]
  },
  {
   "cell_type": "code",
   "execution_count": 14,
   "metadata": {},
   "outputs": [],
   "source": [
    "foot_df = df[[\"SalePrice\", \"footprint\"]].copy()\n",
    "foot_df.dropna(inplace=True)\n",
    "formula = 'SalePrice ~ footprint'\n",
    "footmodel = ols(formula=formula, data=foot_df).fit()"
   ]
  },
  {
   "cell_type": "code",
   "execution_count": 15,
   "metadata": {},
   "outputs": [
    {
     "data": {
      "text/html": [
       "<table class=\"simpletable\">\n",
       "<caption>OLS Regression Results</caption>\n",
       "<tr>\n",
       "  <th>Dep. Variable:</th>        <td>SalePrice</td>    <th>  R-squared:         </th>  <td>   0.000</td>  \n",
       "</tr>\n",
       "<tr>\n",
       "  <th>Model:</th>                   <td>OLS</td>       <th>  Adj. R-squared:    </th>  <td>   0.000</td>  \n",
       "</tr>\n",
       "<tr>\n",
       "  <th>Method:</th>             <td>Least Squares</td>  <th>  F-statistic:       </th>  <td>   7.580</td>  \n",
       "</tr>\n",
       "<tr>\n",
       "  <th>Date:</th>             <td>Thu, 18 Jun 2020</td> <th>  Prob (F-statistic):</th>   <td>0.00591</td>  \n",
       "</tr>\n",
       "<tr>\n",
       "  <th>Time:</th>                 <td>10:50:51</td>     <th>  Log-Likelihood:    </th> <td>-2.7662e+05</td>\n",
       "</tr>\n",
       "<tr>\n",
       "  <th>No. Observations:</th>      <td> 18807</td>      <th>  AIC:               </th>  <td>5.532e+05</td> \n",
       "</tr>\n",
       "<tr>\n",
       "  <th>Df Residuals:</th>          <td> 18805</td>      <th>  BIC:               </th>  <td>5.533e+05</td> \n",
       "</tr>\n",
       "<tr>\n",
       "  <th>Df Model:</th>              <td>     1</td>      <th>                     </th>      <td> </td>     \n",
       "</tr>\n",
       "<tr>\n",
       "  <th>Covariance Type:</th>      <td>nonrobust</td>    <th>                     </th>      <td> </td>     \n",
       "</tr>\n",
       "</table>\n",
       "<table class=\"simpletable\">\n",
       "<tr>\n",
       "      <td></td>         <th>coef</th>     <th>std err</th>      <th>t</th>      <th>P>|t|</th>  <th>[0.025</th>    <th>0.975]</th>  \n",
       "</tr>\n",
       "<tr>\n",
       "  <th>Intercept</th> <td> 7.771e+05</td> <td> 8382.167</td> <td>   92.707</td> <td> 0.000</td> <td> 7.61e+05</td> <td> 7.94e+05</td>\n",
       "</tr>\n",
       "<tr>\n",
       "  <th>footprint</th> <td> 1.087e+05</td> <td> 3.95e+04</td> <td>    2.753</td> <td> 0.006</td> <td> 3.13e+04</td> <td> 1.86e+05</td>\n",
       "</tr>\n",
       "</table>\n",
       "<table class=\"simpletable\">\n",
       "<tr>\n",
       "  <th>Omnibus:</th>       <td>22410.386</td> <th>  Durbin-Watson:     </th>  <td>   1.080</td>  \n",
       "</tr>\n",
       "<tr>\n",
       "  <th>Prob(Omnibus):</th>  <td> 0.000</td>   <th>  Jarque-Bera (JB):  </th> <td>5961811.683</td>\n",
       "</tr>\n",
       "<tr>\n",
       "  <th>Skew:</th>           <td> 6.062</td>   <th>  Prob(JB):          </th>  <td>    0.00</td>  \n",
       "</tr>\n",
       "<tr>\n",
       "  <th>Kurtosis:</th>       <td>89.377</td>   <th>  Cond. No.          </th>  <td>    9.47</td>  \n",
       "</tr>\n",
       "</table><br/><br/>Warnings:<br/>[1] Standard Errors assume that the covariance matrix of the errors is correctly specified."
      ],
      "text/plain": [
       "<class 'statsmodels.iolib.summary.Summary'>\n",
       "\"\"\"\n",
       "                            OLS Regression Results                            \n",
       "==============================================================================\n",
       "Dep. Variable:              SalePrice   R-squared:                       0.000\n",
       "Model:                            OLS   Adj. R-squared:                  0.000\n",
       "Method:                 Least Squares   F-statistic:                     7.580\n",
       "Date:                Thu, 18 Jun 2020   Prob (F-statistic):            0.00591\n",
       "Time:                        10:50:51   Log-Likelihood:            -2.7662e+05\n",
       "No. Observations:               18807   AIC:                         5.532e+05\n",
       "Df Residuals:                   18805   BIC:                         5.533e+05\n",
       "Df Model:                           1                                         \n",
       "Covariance Type:            nonrobust                                         \n",
       "==============================================================================\n",
       "                 coef    std err          t      P>|t|      [0.025      0.975]\n",
       "------------------------------------------------------------------------------\n",
       "Intercept   7.771e+05   8382.167     92.707      0.000    7.61e+05    7.94e+05\n",
       "footprint   1.087e+05   3.95e+04      2.753      0.006    3.13e+04    1.86e+05\n",
       "==============================================================================\n",
       "Omnibus:                    22410.386   Durbin-Watson:                   1.080\n",
       "Prob(Omnibus):                  0.000   Jarque-Bera (JB):          5961811.683\n",
       "Skew:                           6.062   Prob(JB):                         0.00\n",
       "Kurtosis:                      89.377   Cond. No.                         9.47\n",
       "==============================================================================\n",
       "\n",
       "Warnings:\n",
       "[1] Standard Errors assume that the covariance matrix of the errors is correctly specified.\n",
       "\"\"\""
      ]
     },
     "execution_count": 15,
     "metadata": {},
     "output_type": "execute_result"
    }
   ],
   "source": [
    "footmodel.summary()"
   ]
  },
  {
   "cell_type": "markdown",
   "metadata": {},
   "source": [
    "### We see no correlation between footprint and sale price"
   ]
  },
  {
   "cell_type": "code",
   "execution_count": 16,
   "metadata": {},
   "outputs": [
    {
     "data": {
      "text/plain": [
       "<seaborn.axisgrid.FacetGrid at 0x1e90da85b70>"
      ]
     },
     "execution_count": 16,
     "metadata": {},
     "output_type": "execute_result"
    },
    {
     "data": {
      "image/png": "[encoded data removed]",
      "text/plain": [
       "<Figure size 360x360 with 1 Axes>"
      ]
     },
     "metadata": {
      "needs_background": "light"
     },
     "output_type": "display_data"
    }
   ],
   "source": [
    "sns.relplot(x='footprint', y='SalePrice', data=foot_df)"
   ]
  },
  {
   "cell_type": "markdown",
   "metadata": {},
   "source": [
    "### perhaps if we take the logarithm of the sale price"
   ]
  },
  {
   "cell_type": "code",
   "execution_count": 17,
   "metadata": {},
   "outputs": [],
   "source": [
    "foot_df['log_price'] = np.log(foot_df.SalePrice)"
   ]
  },
  {
   "cell_type": "code",
   "execution_count": 18,
   "metadata": {},
   "outputs": [],
   "source": [
    "foot_df['inv-footprint'] = np.reciprocal(foot_df.footprint)"
   ]
  },
  {
   "cell_type": "code",
   "execution_count": 19,
   "metadata": {},
   "outputs": [
    {
     "data": {
      "text/plain": [
       "<seaborn.axisgrid.FacetGrid at 0x1e90db0c710>"
      ]
     },
     "execution_count": 19,
     "metadata": {},
     "output_type": "execute_result"
    },
    {
     "data": {
      "image/png": "[encoded data removed]",
      "text/plain": [
       "<Figure size 360x360 with 1 Axes>"
      ]
     },
     "metadata": {
      "needs_background": "light"
     },
     "output_type": "display_data"
    }
   ],
   "source": [
    "sns.relplot(x='footprint', y='log_price', data=foot_df)"
   ]
  },
  {
   "cell_type": "markdown",
   "metadata": {},
   "source": [
    "### Curious to check out the relationship between zip code and sale price"
   ]
  },
  {
   "cell_type": "code",
   "execution_count": 28,
   "metadata": {},
   "outputs": [],
   "source": [
    "zipcode_df = df[['SalePrice', 'SqFtTotLiving', 'ZipCode']].copy()\n",
    "zipcode_df.dropna(inplace=True)\n",
    "zipcode_df['ZipCode'] = zipcode_df['ZipCode'].str.slice(0,5)\n",
    "zipcode_df.ZipCode.unique()\n",
    "\n",
    "zipcode_df.to_csv('../../data/zipcodes.csv')\n",
    "#save this for further exploration in the maptime notebook"
   ]
  },
  {
   "cell_type": "markdown",
   "metadata": {},
   "source": [
    "### We'll try to see if adding a bathroom count to our model can improve it"
   ]
  },
  {
   "cell_type": "code",
   "execution_count": null,
   "metadata": {},
   "outputs": [],
   "source": []
  },
  {
   "cell_type": "code",
   "execution_count": 26,
   "metadata": {},
   "outputs": [],
   "source": [
    "fsm_df = df[[\"SalePrice\", \"SqFtTotLiving\", 'SqFtTotBasement', 'SqFtOpenPorch', 'SqFtEnclosedPorch']].copy()\n",
    "fsm_df.dropna(inplace=True)\n",
    "formula = 'SalePrice ~ SqFtTotLiving  + SqFtTotBasement + SqFtOpenPorch + SqFtEnclosedPorch  '\n",
    "fsm = ols(formula=formula, data=fsm_df).fit()"
   ]
  },
  {
   "cell_type": "code",
   "execution_count": 27,
   "metadata": {},
   "outputs": [
    {
     "data": {
      "text/html": [
       "<table class=\"simpletable\">\n",
       "<caption>OLS Regression Results</caption>\n",
       "<tr>\n",
       "  <th>Dep. Variable:</th>        <td>SalePrice</td>    <th>  R-squared:         </th>  <td>   0.398</td>  \n",
       "</tr>\n",
       "<tr>\n",
       "  <th>Model:</th>                   <td>OLS</td>       <th>  Adj. R-squared:    </th>  <td>   0.398</td>  \n",
       "</tr>\n",
       "<tr>\n",
       "  <th>Method:</th>             <td>Least Squares</td>  <th>  F-statistic:       </th>  <td>   3110.</td>  \n",
       "</tr>\n",
       "<tr>\n",
       "  <th>Date:</th>             <td>Thu, 18 Jun 2020</td> <th>  Prob (F-statistic):</th>   <td>  0.00</td>   \n",
       "</tr>\n",
       "<tr>\n",
       "  <th>Time:</th>                 <td>11:52:57</td>     <th>  Log-Likelihood:    </th> <td>-2.7185e+05</td>\n",
       "</tr>\n",
       "<tr>\n",
       "  <th>No. Observations:</th>      <td> 18807</td>      <th>  AIC:               </th>  <td>5.437e+05</td> \n",
       "</tr>\n",
       "<tr>\n",
       "  <th>Df Residuals:</th>          <td> 18802</td>      <th>  BIC:               </th>  <td>5.438e+05</td> \n",
       "</tr>\n",
       "<tr>\n",
       "  <th>Df Model:</th>              <td>     4</td>      <th>                     </th>      <td> </td>     \n",
       "</tr>\n",
       "<tr>\n",
       "  <th>Covariance Type:</th>      <td>nonrobust</td>    <th>                     </th>      <td> </td>     \n",
       "</tr>\n",
       "</table>\n",
       "<table class=\"simpletable\">\n",
       "<tr>\n",
       "          <td></td>             <th>coef</th>     <th>std err</th>      <th>t</th>      <th>P>|t|</th>  <th>[0.025</th>    <th>0.975]</th>  \n",
       "</tr>\n",
       "<tr>\n",
       "  <th>Intercept</th>         <td>-1.143e+04</td> <td> 8216.234</td> <td>   -1.391</td> <td> 0.164</td> <td>-2.75e+04</td> <td> 4677.562</td>\n",
       "</tr>\n",
       "<tr>\n",
       "  <th>SqFtTotLiving</th>     <td>  344.6761</td> <td>    3.923</td> <td>   87.853</td> <td> 0.000</td> <td>  336.986</td> <td>  352.366</td>\n",
       "</tr>\n",
       "<tr>\n",
       "  <th>SqFtTotBasement</th>   <td>   96.8628</td> <td>    6.102</td> <td>   15.875</td> <td> 0.000</td> <td>   84.903</td> <td>  108.822</td>\n",
       "</tr>\n",
       "<tr>\n",
       "  <th>SqFtOpenPorch</th>     <td>  284.8062</td> <td>   24.102</td> <td>   11.817</td> <td> 0.000</td> <td>  237.565</td> <td>  332.048</td>\n",
       "</tr>\n",
       "<tr>\n",
       "  <th>SqFtEnclosedPorch</th> <td>  164.3542</td> <td>   91.069</td> <td>    1.805</td> <td> 0.071</td> <td>  -14.149</td> <td>  342.858</td>\n",
       "</tr>\n",
       "</table>\n",
       "<table class=\"simpletable\">\n",
       "<tr>\n",
       "  <th>Omnibus:</th>       <td>24081.487</td> <th>  Durbin-Watson:     </th>   <td>   1.147</td>  \n",
       "</tr>\n",
       "<tr>\n",
       "  <th>Prob(Omnibus):</th>  <td> 0.000</td>   <th>  Jarque-Bera (JB):  </th> <td>12571271.145</td>\n",
       "</tr>\n",
       "<tr>\n",
       "  <th>Skew:</th>           <td> 6.683</td>   <th>  Prob(JB):          </th>   <td>    0.00</td>  \n",
       "</tr>\n",
       "<tr>\n",
       "  <th>Kurtosis:</th>       <td>128.952</td>  <th>  Cond. No.          </th>   <td>5.94e+03</td>  \n",
       "</tr>\n",
       "</table><br/><br/>Warnings:<br/>[1] Standard Errors assume that the covariance matrix of the errors is correctly specified.<br/>[2] The condition number is large, 5.94e+03. This might indicate that there are<br/>strong multicollinearity or other numerical problems."
      ],
      "text/plain": [
       "<class 'statsmodels.iolib.summary.Summary'>\n",
       "\"\"\"\n",
       "                            OLS Regression Results                            \n",
       "==============================================================================\n",
       "Dep. Variable:              SalePrice   R-squared:                       0.398\n",
       "Model:                            OLS   Adj. R-squared:                  0.398\n",
       "Method:                 Least Squares   F-statistic:                     3110.\n",
       "Date:                Thu, 18 Jun 2020   Prob (F-statistic):               0.00\n",
       "Time:                        11:52:57   Log-Likelihood:            -2.7185e+05\n",
       "No. Observations:               18807   AIC:                         5.437e+05\n",
       "Df Residuals:                   18802   BIC:                         5.438e+05\n",
       "Df Model:                           4                                         \n",
       "Covariance Type:            nonrobust                                         \n",
       "=====================================================================================\n",
       "                        coef    std err          t      P>|t|      [0.025      0.975]\n",
       "-------------------------------------------------------------------------------------\n",
       "Intercept         -1.143e+04   8216.234     -1.391      0.164   -2.75e+04    4677.562\n",
       "SqFtTotLiving       344.6761      3.923     87.853      0.000     336.986     352.366\n",
       "SqFtTotBasement      96.8628      6.102     15.875      0.000      84.903     108.822\n",
       "SqFtOpenPorch       284.8062     24.102     11.817      0.000     237.565     332.048\n",
       "SqFtEnclosedPorch   164.3542     91.069      1.805      0.071     -14.149     342.858\n",
       "==============================================================================\n",
       "Omnibus:                    24081.487   Durbin-Watson:                   1.147\n",
       "Prob(Omnibus):                  0.000   Jarque-Bera (JB):         12571271.145\n",
       "Skew:                           6.683   Prob(JB):                         0.00\n",
       "Kurtosis:                     128.952   Cond. No.                     5.94e+03\n",
       "==============================================================================\n",
       "\n",
       "Warnings:\n",
       "[1] Standard Errors assume that the covariance matrix of the errors is correctly specified.\n",
       "[2] The condition number is large, 5.94e+03. This might indicate that there are\n",
       "strong multicollinearity or other numerical problems.\n",
       "\"\"\""
      ]
     },
     "execution_count": 27,
     "metadata": {},
     "output_type": "execute_result"
    }
   ],
   "source": [
    "fsm.summary()\n"
   ]
  },
  {
   "cell_type": "code",
   "execution_count": 25,
   "metadata": {},
   "outputs": [
    {
     "data": {
      "text/html": [
       "<div>\n",
       "<style scoped>\n",
       "    .dataframe tbody tr th:only-of-type {\n",
       "        vertical-align: middle;\n",
       "    }\n",
       "\n",
       "    .dataframe tbody tr th {\n",
       "        vertical-align: top;\n",
       "    }\n",
       "\n",
       "    .dataframe thead th {\n",
       "        text-align: right;\n",
       "    }\n",
       "</style>\n",
       "<table border=\"1\" class=\"dataframe\">\n",
       "  <thead>\n",
       "    <tr style=\"text-align: right;\">\n",
       "      <th></th>\n",
       "      <th>SalePrice</th>\n",
       "      <th>SqFtTotLiving</th>\n",
       "      <th>SqFtTotBasement</th>\n",
       "      <th>SqFtOpenPorch</th>\n",
       "      <th>SqFtEnclosedPorch</th>\n",
       "    </tr>\n",
       "  </thead>\n",
       "  <tbody>\n",
       "    <tr>\n",
       "      <td>SalePrice</td>\n",
       "      <td>1.000000</td>\n",
       "      <td>0.622011</td>\n",
       "      <td>0.270560</td>\n",
       "      <td>0.277837</td>\n",
       "      <td>0.008851</td>\n",
       "    </tr>\n",
       "    <tr>\n",
       "      <td>SqFtTotLiving</td>\n",
       "      <td>0.622011</td>\n",
       "      <td>1.000000</td>\n",
       "      <td>0.309810</td>\n",
       "      <td>0.363750</td>\n",
       "      <td>-0.003722</td>\n",
       "    </tr>\n",
       "    <tr>\n",
       "      <td>SqFtTotBasement</td>\n",
       "      <td>0.270560</td>\n",
       "      <td>0.309810</td>\n",
       "      <td>1.000000</td>\n",
       "      <td>-0.004396</td>\n",
       "      <td>0.015401</td>\n",
       "    </tr>\n",
       "    <tr>\n",
       "      <td>SqFtOpenPorch</td>\n",
       "      <td>0.277837</td>\n",
       "      <td>0.363750</td>\n",
       "      <td>-0.004396</td>\n",
       "      <td>1.000000</td>\n",
       "      <td>-0.009966</td>\n",
       "    </tr>\n",
       "    <tr>\n",
       "      <td>SqFtEnclosedPorch</td>\n",
       "      <td>0.008851</td>\n",
       "      <td>-0.003722</td>\n",
       "      <td>0.015401</td>\n",
       "      <td>-0.009966</td>\n",
       "      <td>1.000000</td>\n",
       "    </tr>\n",
       "  </tbody>\n",
       "</table>\n",
       "</div>"
      ],
      "text/plain": [
       "                   SalePrice  SqFtTotLiving  SqFtTotBasement  SqFtOpenPorch  \\\n",
       "SalePrice           1.000000       0.622011         0.270560       0.277837   \n",
       "SqFtTotLiving       0.622011       1.000000         0.309810       0.363750   \n",
       "SqFtTotBasement     0.270560       0.309810         1.000000      -0.004396   \n",
       "SqFtOpenPorch       0.277837       0.363750        -0.004396       1.000000   \n",
       "SqFtEnclosedPorch   0.008851      -0.003722         0.015401      -0.009966   \n",
       "\n",
       "                   SqFtEnclosedPorch  \n",
       "SalePrice                   0.008851  \n",
       "SqFtTotLiving              -0.003722  \n",
       "SqFtTotBasement             0.015401  \n",
       "SqFtOpenPorch              -0.009966  \n",
       "SqFtEnclosedPorch           1.000000  "
      ]
     },
     "execution_count": 25,
     "metadata": {},
     "output_type": "execute_result"
    }
   ],
   "source": [
    "fsm_df.corr()"
   ]
  },
  {
   "cell_type": "code",
   "execution_count": 29,
   "metadata": {},
   "outputs": [
    {
     "data": {
      "text/html": [
       "<div>\n",
       "<style scoped>\n",
       "    .dataframe tbody tr th:only-of-type {\n",
       "        vertical-align: middle;\n",
       "    }\n",
       "\n",
       "    .dataframe tbody tr th {\n",
       "        vertical-align: top;\n",
       "    }\n",
       "\n",
       "    .dataframe thead th {\n",
       "        text-align: right;\n",
       "    }\n",
       "</style>\n",
       "<table border=\"1\" class=\"dataframe\">\n",
       "  <thead>\n",
       "    <tr style=\"text-align: right;\">\n",
       "      <th></th>\n",
       "      <th>SalePrice</th>\n",
       "      <th>SqFtTotLiving</th>\n",
       "      <th>ZipCode</th>\n",
       "    </tr>\n",
       "  </thead>\n",
       "  <tbody>\n",
       "    <tr>\n",
       "      <td>8</td>\n",
       "      <td>358308</td>\n",
       "      <td>2240.0</td>\n",
       "      <td>98002</td>\n",
       "    </tr>\n",
       "    <tr>\n",
       "      <td>11</td>\n",
       "      <td>850000</td>\n",
       "      <td>3500.0</td>\n",
       "      <td>98166</td>\n",
       "    </tr>\n",
       "    <tr>\n",
       "      <td>22</td>\n",
       "      <td>465000</td>\n",
       "      <td>2360.0</td>\n",
       "      <td>98032</td>\n",
       "    </tr>\n",
       "    <tr>\n",
       "      <td>36</td>\n",
       "      <td>350000</td>\n",
       "      <td>1240.0</td>\n",
       "      <td>98168</td>\n",
       "    </tr>\n",
       "    <tr>\n",
       "      <td>39</td>\n",
       "      <td>520000</td>\n",
       "      <td>3030.0</td>\n",
       "      <td>98168</td>\n",
       "    </tr>\n",
       "    <tr>\n",
       "      <td>...</td>\n",
       "      <td>...</td>\n",
       "      <td>...</td>\n",
       "      <td>...</td>\n",
       "    </tr>\n",
       "    <tr>\n",
       "      <td>62023</td>\n",
       "      <td>608220</td>\n",
       "      <td>1570.0</td>\n",
       "      <td>98126</td>\n",
       "    </tr>\n",
       "    <tr>\n",
       "      <td>62024</td>\n",
       "      <td>620000</td>\n",
       "      <td>1010.0</td>\n",
       "      <td>98126</td>\n",
       "    </tr>\n",
       "    <tr>\n",
       "      <td>62030</td>\n",
       "      <td>510000</td>\n",
       "      <td>1820.0</td>\n",
       "      <td>98055</td>\n",
       "    </tr>\n",
       "    <tr>\n",
       "      <td>62035</td>\n",
       "      <td>1275000</td>\n",
       "      <td>3830.0</td>\n",
       "      <td>98166</td>\n",
       "    </tr>\n",
       "    <tr>\n",
       "      <td>62037</td>\n",
       "      <td>650000</td>\n",
       "      <td>2010.0</td>\n",
       "      <td>98125</td>\n",
       "    </tr>\n",
       "  </tbody>\n",
       "</table>\n",
       "<p>16326 rows × 3 columns</p>\n",
       "</div>"
      ],
      "text/plain": [
       "       SalePrice  SqFtTotLiving ZipCode\n",
       "8         358308         2240.0   98002\n",
       "11        850000         3500.0   98166\n",
       "22        465000         2360.0   98032\n",
       "36        350000         1240.0   98168\n",
       "39        520000         3030.0   98168\n",
       "...          ...            ...     ...\n",
       "62023     608220         1570.0   98126\n",
       "62024     620000         1010.0   98126\n",
       "62030     510000         1820.0   98055\n",
       "62035    1275000         3830.0   98166\n",
       "62037     650000         2010.0   98125\n",
       "\n",
       "[16326 rows x 3 columns]"
      ]
     },
     "execution_count": 29,
     "metadata": {},
     "output_type": "execute_result"
    }
   ],
   "source": [
    "zipcode_df"
   ]
  },
  {
   "cell_type": "code",
   "execution_count": 44,
   "metadata": {},
   "outputs": [],
   "source": [
    "rich_codes = ['98039', '98004', '98040']\n",
    "zipcode_df['money_zone'] = zipcode_df.ZipCode.isin(rich_codes)\n"
   ]
  },
  {
   "cell_type": "code",
   "execution_count": 55,
   "metadata": {},
   "outputs": [],
   "source": [
    "fsm_df = zipcode_df[[\"SalePrice\", \"SqFtTotLiving\", 'money_zone']].copy()\n",
    "fsm_df = fsm_df[(fsm_df.SalePrice >= 200000) & (fsm_df.SalePrice < 9000000)]\n",
    "fsm_df.dropna(inplace=True)\n",
    "formula = 'SalePrice ~ SqFtTotLiving + money_zone'\n",
    "fsm = ols(formula=formula, data=fsm_df).fit()"
   ]
  },
  {
   "cell_type": "code",
   "execution_count": 56,
   "metadata": {},
   "outputs": [
    {
     "data": {
      "text/html": [
       "<table class=\"simpletable\">\n",
       "<caption>OLS Regression Results</caption>\n",
       "<tr>\n",
       "  <th>Dep. Variable:</th>        <td>SalePrice</td>    <th>  R-squared:         </th>  <td>   0.496</td>  \n",
       "</tr>\n",
       "<tr>\n",
       "  <th>Model:</th>                   <td>OLS</td>       <th>  Adj. R-squared:    </th>  <td>   0.496</td>  \n",
       "</tr>\n",
       "<tr>\n",
       "  <th>Method:</th>             <td>Least Squares</td>  <th>  F-statistic:       </th>  <td>   7984.</td>  \n",
       "</tr>\n",
       "<tr>\n",
       "  <th>Date:</th>             <td>Thu, 18 Jun 2020</td> <th>  Prob (F-statistic):</th>   <td>  0.00</td>   \n",
       "</tr>\n",
       "<tr>\n",
       "  <th>Time:</th>                 <td>13:17:37</td>     <th>  Log-Likelihood:    </th> <td>-2.3115e+05</td>\n",
       "</tr>\n",
       "<tr>\n",
       "  <th>No. Observations:</th>      <td> 16203</td>      <th>  AIC:               </th>  <td>4.623e+05</td> \n",
       "</tr>\n",
       "<tr>\n",
       "  <th>Df Residuals:</th>          <td> 16200</td>      <th>  BIC:               </th>  <td>4.623e+05</td> \n",
       "</tr>\n",
       "<tr>\n",
       "  <th>Df Model:</th>              <td>     2</td>      <th>                     </th>      <td> </td>     \n",
       "</tr>\n",
       "<tr>\n",
       "  <th>Covariance Type:</th>      <td>nonrobust</td>    <th>                     </th>      <td> </td>     \n",
       "</tr>\n",
       "</table>\n",
       "<table class=\"simpletable\">\n",
       "<tr>\n",
       "           <td></td>             <th>coef</th>     <th>std err</th>      <th>t</th>      <th>P>|t|</th>  <th>[0.025</th>    <th>0.975]</th>  \n",
       "</tr>\n",
       "<tr>\n",
       "  <th>Intercept</th>          <td> 8.198e+04</td> <td> 7341.806</td> <td>   11.166</td> <td> 0.000</td> <td> 6.76e+04</td> <td> 9.64e+04</td>\n",
       "</tr>\n",
       "<tr>\n",
       "  <th>money_zone[T.True]</th> <td> 1.028e+06</td> <td>  1.8e+04</td> <td>   57.086</td> <td> 0.000</td> <td> 9.93e+05</td> <td> 1.06e+06</td>\n",
       "</tr>\n",
       "<tr>\n",
       "  <th>SqFtTotLiving</th>      <td>  318.2059</td> <td>    3.266</td> <td>   97.432</td> <td> 0.000</td> <td>  311.804</td> <td>  324.607</td>\n",
       "</tr>\n",
       "</table>\n",
       "<table class=\"simpletable\">\n",
       "<tr>\n",
       "  <th>Omnibus:</th>       <td>13720.979</td> <th>  Durbin-Watson:     </th>  <td>   1.126</td> \n",
       "</tr>\n",
       "<tr>\n",
       "  <th>Prob(Omnibus):</th>  <td> 0.000</td>   <th>  Jarque-Bera (JB):  </th> <td>898591.365</td>\n",
       "</tr>\n",
       "<tr>\n",
       "  <th>Skew:</th>           <td> 3.697</td>   <th>  Prob(JB):          </th>  <td>    0.00</td> \n",
       "</tr>\n",
       "<tr>\n",
       "  <th>Kurtosis:</th>       <td>38.726</td>   <th>  Cond. No.          </th>  <td>1.38e+04</td> \n",
       "</tr>\n",
       "</table><br/><br/>Warnings:<br/>[1] Standard Errors assume that the covariance matrix of the errors is correctly specified.<br/>[2] The condition number is large, 1.38e+04. This might indicate that there are<br/>strong multicollinearity or other numerical problems."
      ],
      "text/plain": [
       "<class 'statsmodels.iolib.summary.Summary'>\n",
       "\"\"\"\n",
       "                            OLS Regression Results                            \n",
       "==============================================================================\n",
       "Dep. Variable:              SalePrice   R-squared:                       0.496\n",
       "Model:                            OLS   Adj. R-squared:                  0.496\n",
       "Method:                 Least Squares   F-statistic:                     7984.\n",
       "Date:                Thu, 18 Jun 2020   Prob (F-statistic):               0.00\n",
       "Time:                        13:17:37   Log-Likelihood:            -2.3115e+05\n",
       "No. Observations:               16203   AIC:                         4.623e+05\n",
       "Df Residuals:                   16200   BIC:                         4.623e+05\n",
       "Df Model:                           2                                         \n",
       "Covariance Type:            nonrobust                                         \n",
       "======================================================================================\n",
       "                         coef    std err          t      P>|t|      [0.025      0.975]\n",
       "--------------------------------------------------------------------------------------\n",
       "Intercept           8.198e+04   7341.806     11.166      0.000    6.76e+04    9.64e+04\n",
       "money_zone[T.True]  1.028e+06    1.8e+04     57.086      0.000    9.93e+05    1.06e+06\n",
       "SqFtTotLiving        318.2059      3.266     97.432      0.000     311.804     324.607\n",
       "==============================================================================\n",
       "Omnibus:                    13720.979   Durbin-Watson:                   1.126\n",
       "Prob(Omnibus):                  0.000   Jarque-Bera (JB):           898591.365\n",
       "Skew:                           3.697   Prob(JB):                         0.00\n",
       "Kurtosis:                      38.726   Cond. No.                     1.38e+04\n",
       "==============================================================================\n",
       "\n",
       "Warnings:\n",
       "[1] Standard Errors assume that the covariance matrix of the errors is correctly specified.\n",
       "[2] The condition number is large, 1.38e+04. This might indicate that there are\n",
       "strong multicollinearity or other numerical problems.\n",
       "\"\"\""
      ]
     },
     "execution_count": 56,
     "metadata": {},
     "output_type": "execute_result"
    }
   ],
   "source": [
    "fsm.summary()"
   ]
  },
  {
   "cell_type": "code",
   "execution_count": null,
   "metadata": {},
   "outputs": [],
   "source": []
  }
 ],
 "metadata": {
  "kernelspec": {
   "display_name": "learn-env",
   "language": "python",
   "name": "learn-env"
  },
  "language_info": {
   "codemirror_mode": {
    "name": "ipython",
    "version": 3
   },
   "file_extension": ".py",
   "mimetype": "text/x-python",
   "name": "python",
   "nbconvert_exporter": "python",
   "pygments_lexer": "ipython3",
   "version": "3.6.9"
  }
 },
 "nbformat": 4,
 "nbformat_minor": 4
}
