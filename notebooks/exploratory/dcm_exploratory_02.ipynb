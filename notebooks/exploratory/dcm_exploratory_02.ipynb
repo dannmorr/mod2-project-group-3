{
 "cells": [
  {
   "cell_type": "markdown",
   "metadata": {},
   "source": [
    "## Exploration for Claim 2: ##\n",
    "    Having porch or deck increases home sale price"
   ]
  },
  {
   "cell_type": "markdown",
   "metadata": {},
   "source": [
    "### Null hypothesis: There is no relationship between outdoor space and sale price\n",
    "\n",
    "### Alternative hypothesis: There is a relationship between outdoor space and sale price\n",
    "\n"
   ]
  },
  {
   "cell_type": "markdown",
   "metadata": {},
   "source": [
    "### Make necessary imports"
   ]
  },
  {
   "cell_type": "code",
   "execution_count": 24,
   "metadata": {},
   "outputs": [],
   "source": [
    "import numpy as np\n",
    "import matplotlib.pyplot as plt\n",
    "import seaborn as sns\n",
    "import pandas as pd\n",
    "from statsmodels.formula.api import ols\n",
    "import statsmodels.api as sm\n",
    "import statsmodels.stats.api as sms\n",
    "\n",
    "%matplotlib inline\n",
    "plt.style.use('ggplot')\n",
    "\n",
    "#from ltests import model"
   ]
  },
  {
   "cell_type": "markdown",
   "metadata": {},
   "source": [
    "### Import our combined csv into a DataFrame"
   ]
  },
  {
   "cell_type": "code",
   "execution_count": 25,
   "metadata": {},
   "outputs": [],
   "source": [
    "raw = pd.read_csv('../../data/master.csv', low_memory=False, dtype={'id': object})\n"
   ]
  },
  {
   "cell_type": "code",
   "execution_count": 26,
   "metadata": {},
   "outputs": [
    {
     "data": {
      "text/plain": [
       "62039"
      ]
     },
     "execution_count": 26,
     "metadata": {},
     "output_type": "execute_result"
    }
   ],
   "source": [
    "#how many entries are there?\n",
    "raw.shape[0]"
   ]
  },
  {
   "cell_type": "markdown",
   "metadata": {},
   "source": [
    "### SalePrice will be our target variable, so lets' set that as the index"
   ]
  },
  {
   "cell_type": "code",
   "execution_count": 27,
   "metadata": {},
   "outputs": [
    {
     "data": {
      "text/html": [
       "<div>\n",
       "<style scoped>\n",
       "    .dataframe tbody tr th:only-of-type {\n",
       "        vertical-align: middle;\n",
       "    }\n",
       "\n",
       "    .dataframe tbody tr th {\n",
       "        vertical-align: top;\n",
       "    }\n",
       "\n",
       "    .dataframe thead th {\n",
       "        text-align: right;\n",
       "    }\n",
       "</style>\n",
       "<table border=\"1\" class=\"dataframe\">\n",
       "  <thead>\n",
       "    <tr style=\"text-align: right;\">\n",
       "      <th></th>\n",
       "      <th>SalePrice</th>\n",
       "      <th>id</th>\n",
       "      <th>ExciseTaxNbr</th>\n",
       "      <th>DocumentDate</th>\n",
       "      <th>RecordingNbr</th>\n",
       "      <th>Volume</th>\n",
       "      <th>Page</th>\n",
       "      <th>PlatNbr</th>\n",
       "      <th>PlatType</th>\n",
       "      <th>PlatLot</th>\n",
       "      <th>...</th>\n",
       "      <th>FpAdditional</th>\n",
       "      <th>YrBuilt</th>\n",
       "      <th>YrRenovated</th>\n",
       "      <th>PcntComplete</th>\n",
       "      <th>Obsolescence</th>\n",
       "      <th>PcntNetCondition</th>\n",
       "      <th>Condition</th>\n",
       "      <th>AddnlCost</th>\n",
       "      <th>footprint</th>\n",
       "      <th>OutdoorSpace</th>\n",
       "    </tr>\n",
       "  </thead>\n",
       "  <tbody>\n",
       "    <tr>\n",
       "      <td>2</td>\n",
       "      <td>485500</td>\n",
       "      <td>0001000042</td>\n",
       "      <td>3018323</td>\n",
       "      <td>10/29/2019</td>\n",
       "      <td>20191031001228</td>\n",
       "      <td></td>\n",
       "      <td></td>\n",
       "      <td></td>\n",
       "      <td></td>\n",
       "      <td></td>\n",
       "      <td>...</td>\n",
       "      <td>0.0</td>\n",
       "      <td>2016.0</td>\n",
       "      <td>0.0</td>\n",
       "      <td>0.0</td>\n",
       "      <td>0.0</td>\n",
       "      <td>0.0</td>\n",
       "      <td>3.0</td>\n",
       "      <td>0.0</td>\n",
       "      <td>0.238254</td>\n",
       "      <td>244.0</td>\n",
       "    </tr>\n",
       "    <tr>\n",
       "      <td>8</td>\n",
       "      <td>358308</td>\n",
       "      <td>0001000067</td>\n",
       "      <td>2979287</td>\n",
       "      <td>03/18/2019</td>\n",
       "      <td>20190327000321</td>\n",
       "      <td></td>\n",
       "      <td></td>\n",
       "      <td></td>\n",
       "      <td></td>\n",
       "      <td></td>\n",
       "      <td>...</td>\n",
       "      <td>1.0</td>\n",
       "      <td>1946.0</td>\n",
       "      <td>0.0</td>\n",
       "      <td>0.0</td>\n",
       "      <td>0.0</td>\n",
       "      <td>0.0</td>\n",
       "      <td>4.0</td>\n",
       "      <td>0.0</td>\n",
       "      <td>0.128736</td>\n",
       "      <td>170.0</td>\n",
       "    </tr>\n",
       "    <tr>\n",
       "      <td>11</td>\n",
       "      <td>850000</td>\n",
       "      <td>0001200008</td>\n",
       "      <td>2991776</td>\n",
       "      <td>05/17/2019</td>\n",
       "      <td>20190604001211</td>\n",
       "      <td></td>\n",
       "      <td></td>\n",
       "      <td></td>\n",
       "      <td></td>\n",
       "      <td></td>\n",
       "      <td>...</td>\n",
       "      <td>1.0</td>\n",
       "      <td>1964.0</td>\n",
       "      <td>0.0</td>\n",
       "      <td>0.0</td>\n",
       "      <td>0.0</td>\n",
       "      <td>0.0</td>\n",
       "      <td>4.0</td>\n",
       "      <td>0.0</td>\n",
       "      <td>0.072488</td>\n",
       "      <td>260.0</td>\n",
       "    </tr>\n",
       "    <tr>\n",
       "      <td>22</td>\n",
       "      <td>465000</td>\n",
       "      <td>0002000015</td>\n",
       "      <td>3022128</td>\n",
       "      <td>11/19/2019</td>\n",
       "      <td>20191122001296</td>\n",
       "      <td></td>\n",
       "      <td></td>\n",
       "      <td></td>\n",
       "      <td></td>\n",
       "      <td></td>\n",
       "      <td>...</td>\n",
       "      <td>1.0</td>\n",
       "      <td>1961.0</td>\n",
       "      <td>0.0</td>\n",
       "      <td>0.0</td>\n",
       "      <td>0.0</td>\n",
       "      <td>0.0</td>\n",
       "      <td>5.0</td>\n",
       "      <td>0.0</td>\n",
       "      <td>0.086336</td>\n",
       "      <td>890.0</td>\n",
       "    </tr>\n",
       "    <tr>\n",
       "      <td>36</td>\n",
       "      <td>350000</td>\n",
       "      <td>0003000086</td>\n",
       "      <td>2995868</td>\n",
       "      <td>06/18/2019</td>\n",
       "      <td></td>\n",
       "      <td></td>\n",
       "      <td></td>\n",
       "      <td></td>\n",
       "      <td></td>\n",
       "      <td></td>\n",
       "      <td>...</td>\n",
       "      <td>0.0</td>\n",
       "      <td>1948.0</td>\n",
       "      <td>0.0</td>\n",
       "      <td>0.0</td>\n",
       "      <td>0.0</td>\n",
       "      <td>0.0</td>\n",
       "      <td>4.0</td>\n",
       "      <td>0.0</td>\n",
       "      <td>0.081522</td>\n",
       "      <td>240.0</td>\n",
       "    </tr>\n",
       "  </tbody>\n",
       "</table>\n",
       "<p>5 rows × 152 columns</p>\n",
       "</div>"
      ],
      "text/plain": [
       "    SalePrice          id  ExciseTaxNbr DocumentDate    RecordingNbr Volume  \\\n",
       "2      485500  0001000042       3018323   10/29/2019  20191031001228          \n",
       "8      358308  0001000067       2979287   03/18/2019  20190327000321          \n",
       "11     850000  0001200008       2991776   05/17/2019  20190604001211          \n",
       "22     465000  0002000015       3022128   11/19/2019  20191122001296          \n",
       "36     350000  0003000086       2995868   06/18/2019                          \n",
       "\n",
       "   Page PlatNbr PlatType         PlatLot  ... FpAdditional YrBuilt  \\\n",
       "2                                         ...          0.0  2016.0   \n",
       "8                                         ...          1.0  1946.0   \n",
       "11                                        ...          1.0  1964.0   \n",
       "22                                        ...          1.0  1961.0   \n",
       "36                                        ...          0.0  1948.0   \n",
       "\n",
       "   YrRenovated  PcntComplete  Obsolescence  PcntNetCondition Condition  \\\n",
       "2          0.0           0.0           0.0               0.0       3.0   \n",
       "8          0.0           0.0           0.0               0.0       4.0   \n",
       "11         0.0           0.0           0.0               0.0       4.0   \n",
       "22         0.0           0.0           0.0               0.0       5.0   \n",
       "36         0.0           0.0           0.0               0.0       4.0   \n",
       "\n",
       "   AddnlCost footprint OutdoorSpace  \n",
       "2        0.0  0.238254        244.0  \n",
       "8        0.0  0.128736        170.0  \n",
       "11       0.0  0.072488        260.0  \n",
       "22       0.0  0.086336        890.0  \n",
       "36       0.0  0.081522        240.0  \n",
       "\n",
       "[5 rows x 152 columns]"
      ]
     },
     "execution_count": 27,
     "metadata": {},
     "output_type": "execute_result"
    }
   ],
   "source": [
    "#set the target to column index 0\n",
    "cols = list(df.columns)\n",
    "cols = [cols[3]] + cols[:3] + cols[4:]\n",
    "df = df[cols]\n",
    "df.head()"
   ]
  },
  {
   "cell_type": "markdown",
   "metadata": {},
   "source": [
    "### We would like to select only those entries that have a sale price greater than 0"
   ]
  },
  {
   "cell_type": "code",
   "execution_count": 28,
   "metadata": {},
   "outputs": [
    {
     "data": {
      "text/plain": [
       "42214"
      ]
     },
     "execution_count": 28,
     "metadata": {},
     "output_type": "execute_result"
    }
   ],
   "source": [
    "raw = raw[raw.SalePrice > 0]\n",
    "\n",
    "#How many entries are left?\n",
    "raw.shape[0]"
   ]
  },
  {
   "cell_type": "markdown",
   "metadata": {},
   "source": [
    "### Now we select the sales with the proper PropertyType codes\n",
    "The following is interest to us:\n",
    " - 11: Household, single family units\n",
    "\n",
    "These are not because they don't help us answer our questions about homeownership\n",
    "\n",
    " - 12: Multiple family residence (Residential, 2-4 units)\n",
    " - 13: Multiple family residence (Residential, 5+ units)\n",
    " - 14: Residential condominiums\n",
    "  \n",
    "*These codes can be found in the Lookup.zip file located at*\n",
    "\n",
    "https://info.kingcounty.gov/assessor/DataDownload/default.aspx "
   ]
  },
  {
   "cell_type": "code",
   "execution_count": 29,
   "metadata": {},
   "outputs": [
    {
     "data": {
      "text/plain": [
       "19264"
      ]
     },
     "execution_count": 29,
     "metadata": {},
     "output_type": "execute_result"
    }
   ],
   "source": [
    "proptypes = [11]\n",
    "\n",
    "df = raw[raw.PropertyType.isin(proptypes)]\n",
    "\n",
    "#How many entries are left now?\n",
    "df.shape[0]\n"
   ]
  },
  {
   "cell_type": "markdown",
   "metadata": {},
   "source": [
    "### Let's look at houses that have any porch or deck (aka OutdoorSpace)"
   ]
  },
  {
   "cell_type": "code",
   "execution_count": 30,
   "metadata": {},
   "outputs": [
    {
     "name": "stderr",
     "output_type": "stream",
     "text": [
      "/opt/anaconda3/envs/learn-env/lib/python3.6/site-packages/ipykernel_launcher.py:2: SettingWithCopyWarning: \n",
      "A value is trying to be set on a copy of a slice from a DataFrame.\n",
      "Try using .loc[row_indexer,col_indexer] = value instead\n",
      "\n",
      "See the caveats in the documentation: http://pandas.pydata.org/pandas-docs/stable/user_guide/indexing.html#returning-a-view-versus-a-copy\n",
      "  \n"
     ]
    }
   ],
   "source": [
    "#add column to dataframe OutdoorSpace\n",
    "df['OutdoorSpace']= df['SqFtOpenPorch']+df['SqFtEnclosedPorch']+df['SqFtDeck']"
   ]
  },
  {
   "cell_type": "code",
   "execution_count": 31,
   "metadata": {},
   "outputs": [
    {
     "data": {
      "text/plain": [
       "19264"
      ]
     },
     "execution_count": 31,
     "metadata": {},
     "output_type": "execute_result"
    }
   ],
   "source": [
    "# How many entries have we got?\n",
    "# It should still be 19264.\n",
    "df.shape[0]"
   ]
  },
  {
   "cell_type": "code",
   "execution_count": 33,
   "metadata": {},
   "outputs": [],
   "source": [
    "#filling in NaN with zero\n",
    "#assuming they are NaN because there is no porch or deck\n",
    "#df['OutdoorSpace'] = df['OutdoorSpace'].fillna(0)"
   ]
  },
  {
   "cell_type": "markdown",
   "metadata": {},
   "source": [
    "### Generate our first simple model of Sale Price vs OutdoorSpace"
   ]
  },
  {
   "cell_type": "code",
   "execution_count": 34,
   "metadata": {},
   "outputs": [],
   "source": [
    "fsm_df = df[[\"SalePrice\", \"OutdoorSpace\"]].copy()\n",
    "fsm_df.dropna(inplace=True)\n",
    "formula = 'SalePrice ~ OutdoorSpace'\n",
    "fsm = ols(formula=formula, data=fsm_df).fit()"
   ]
  },
  {
   "cell_type": "markdown",
   "metadata": {},
   "source": [
    "What kind of p-value have we got?"
   ]
  },
  {
   "cell_type": "code",
   "execution_count": 37,
   "metadata": {},
   "outputs": [
    {
     "data": {
      "text/plain": [
       "Intercept       0.0\n",
       "OutdoorSpace    0.0\n",
       "dtype: float64"
      ]
     },
     "execution_count": 37,
     "metadata": {},
     "output_type": "execute_result"
    }
   ],
   "source": [
    "fsm.pvalues"
   ]
  },
  {
   "cell_type": "markdown",
   "metadata": {},
   "source": [
    "Well that was unexpected.\n",
    "\n",
    "##### Let's look at the summary"
   ]
  },
  {
   "cell_type": "code",
   "execution_count": 36,
   "metadata": {},
   "outputs": [
    {
     "data": {
      "text/html": [
       "<table class=\"simpletable\">\n",
       "<caption>OLS Regression Results</caption>\n",
       "<tr>\n",
       "  <th>Dep. Variable:</th>        <td>SalePrice</td>    <th>  R-squared:         </th>  <td>   0.075</td>  \n",
       "</tr>\n",
       "<tr>\n",
       "  <th>Model:</th>                   <td>OLS</td>       <th>  Adj. R-squared:    </th>  <td>   0.075</td>  \n",
       "</tr>\n",
       "<tr>\n",
       "  <th>Method:</th>             <td>Least Squares</td>  <th>  F-statistic:       </th>  <td>   1567.</td>  \n",
       "</tr>\n",
       "<tr>\n",
       "  <th>Date:</th>             <td>Fri, 19 Jun 2020</td> <th>  Prob (F-statistic):</th>   <td>  0.00</td>   \n",
       "</tr>\n",
       "<tr>\n",
       "  <th>Time:</th>                 <td>15:21:33</td>     <th>  Log-Likelihood:    </th> <td>-2.8590e+05</td>\n",
       "</tr>\n",
       "<tr>\n",
       "  <th>No. Observations:</th>      <td> 19264</td>      <th>  AIC:               </th>  <td>5.718e+05</td> \n",
       "</tr>\n",
       "<tr>\n",
       "  <th>Df Residuals:</th>          <td> 19262</td>      <th>  BIC:               </th>  <td>5.718e+05</td> \n",
       "</tr>\n",
       "<tr>\n",
       "  <th>Df Model:</th>              <td>     1</td>      <th>                     </th>      <td> </td>     \n",
       "</tr>\n",
       "<tr>\n",
       "  <th>Covariance Type:</th>      <td>nonrobust</td>    <th>                     </th>      <td> </td>     \n",
       "</tr>\n",
       "</table>\n",
       "<table class=\"simpletable\">\n",
       "<tr>\n",
       "        <td></td>          <th>coef</th>     <th>std err</th>      <th>t</th>      <th>P>|t|</th>  <th>[0.025</th>    <th>0.975]</th>  \n",
       "</tr>\n",
       "<tr>\n",
       "  <th>Intercept</th>    <td> 6.392e+05</td> <td> 6247.496</td> <td>  102.308</td> <td> 0.000</td> <td> 6.27e+05</td> <td> 6.51e+05</td>\n",
       "</tr>\n",
       "<tr>\n",
       "  <th>OutdoorSpace</th> <td>  737.1722</td> <td>   18.621</td> <td>   39.589</td> <td> 0.000</td> <td>  700.674</td> <td>  773.671</td>\n",
       "</tr>\n",
       "</table>\n",
       "<table class=\"simpletable\">\n",
       "<tr>\n",
       "  <th>Omnibus:</th>       <td>48826.207</td> <th>  Durbin-Watson:     </th>    <td>   1.413</td>   \n",
       "</tr>\n",
       "<tr>\n",
       "  <th>Prob(Omnibus):</th>  <td> 0.000</td>   <th>  Jarque-Bera (JB):  </th> <td>2978396872.824</td>\n",
       "</tr>\n",
       "<tr>\n",
       "  <th>Skew:</th>           <td>27.660</td>   <th>  Prob(JB):          </th>    <td>    0.00</td>   \n",
       "</tr>\n",
       "<tr>\n",
       "  <th>Kurtosis:</th>      <td>1928.504</td>  <th>  Cond. No.          </th>    <td>    431.</td>   \n",
       "</tr>\n",
       "</table><br/><br/>Warnings:<br/>[1] Standard Errors assume that the covariance matrix of the errors is correctly specified."
      ],
      "text/plain": [
       "<class 'statsmodels.iolib.summary.Summary'>\n",
       "\"\"\"\n",
       "                            OLS Regression Results                            \n",
       "==============================================================================\n",
       "Dep. Variable:              SalePrice   R-squared:                       0.075\n",
       "Model:                            OLS   Adj. R-squared:                  0.075\n",
       "Method:                 Least Squares   F-statistic:                     1567.\n",
       "Date:                Fri, 19 Jun 2020   Prob (F-statistic):               0.00\n",
       "Time:                        15:21:33   Log-Likelihood:            -2.8590e+05\n",
       "No. Observations:               19264   AIC:                         5.718e+05\n",
       "Df Residuals:                   19262   BIC:                         5.718e+05\n",
       "Df Model:                           1                                         \n",
       "Covariance Type:            nonrobust                                         \n",
       "================================================================================\n",
       "                   coef    std err          t      P>|t|      [0.025      0.975]\n",
       "--------------------------------------------------------------------------------\n",
       "Intercept     6.392e+05   6247.496    102.308      0.000    6.27e+05    6.51e+05\n",
       "OutdoorSpace   737.1722     18.621     39.589      0.000     700.674     773.671\n",
       "==============================================================================\n",
       "Omnibus:                    48826.207   Durbin-Watson:                   1.413\n",
       "Prob(Omnibus):                  0.000   Jarque-Bera (JB):       2978396872.824\n",
       "Skew:                          27.660   Prob(JB):                         0.00\n",
       "Kurtosis:                    1928.504   Cond. No.                         431.\n",
       "==============================================================================\n",
       "\n",
       "Warnings:\n",
       "[1] Standard Errors assume that the covariance matrix of the errors is correctly specified.\n",
       "\"\"\""
      ]
     },
     "execution_count": 36,
     "metadata": {},
     "output_type": "execute_result"
    }
   ],
   "source": [
    "fsm.summary()"
   ]
  },
  {
   "cell_type": "markdown",
   "metadata": {},
   "source": [
    "### Result?\n",
    "\n",
    "That is not a very good looking R^2. Only 0.075"
   ]
  },
  {
   "cell_type": "markdown",
   "metadata": {},
   "source": [
    "## Check homoscedasticity"
   ]
  },
  {
   "cell_type": "code",
   "execution_count": 38,
   "metadata": {},
   "outputs": [
    {
     "data": {
      "image/png": "[encoded data removed]",
      "text/plain": [
       "<Figure size 720x432 with 1 Axes>"
      ]
     },
     "metadata": {},
     "output_type": "display_data"
    }
   ],
   "source": [
    "fsm_resids = fsm.resid\n",
    "y_hat = fsm.predict()\n",
    "fig, ax = plt.subplots(figsize=(10,6))\n",
    "ax.scatter(y_hat, fsm_resids);"
   ]
  },
  {
   "cell_type": "markdown",
   "metadata": {},
   "source": [
    "## check normality with Q-Q plot"
   ]
  },
  {
   "cell_type": "code",
   "execution_count": 49,
   "metadata": {},
   "outputs": [
    {
     "data": {
      "image/png": "[encoded data removed]",
      "text/plain": [
       "<Figure size 432x288 with 1 Axes>"
      ]
     },
     "execution_count": 49,
     "metadata": {},
     "output_type": "execute_result"
    },
    {
     "data": {
      "image/png": "[encoded data removed]",
      "text/plain": [
       "<Figure size 432x288 with 1 Axes>"
      ]
     },
     "metadata": {},
     "output_type": "display_data"
    }
   ],
   "source": [
    "sm.qqplot(fsm_resids)"
   ]
  },
  {
   "cell_type": "markdown",
   "metadata": {},
   "source": [
    "## check normality with Jarque Bera test"
   ]
  },
  {
   "cell_type": "code",
   "execution_count": 50,
   "metadata": {},
   "outputs": [
    {
     "data": {
      "text/plain": [
       "[('JB', 2978396872.824445),\n",
       " ('Prob', 0.0),\n",
       " ('Skew', 27.66046016424133),\n",
       " ('Kurtosis', 1928.5043310849903)]"
      ]
     },
     "execution_count": 50,
     "metadata": {},
     "output_type": "execute_result"
    }
   ],
   "source": [
    "name = ['JB', 'Prob', 'Skew', 'Kurtosis']\n",
    "test = sms.jarque_bera(fsm.resid)\n",
    "list(zip(name, test))"
   ]
  },
  {
   "cell_type": "markdown",
   "metadata": {},
   "source": [
    "### Let's try do drop some outliers \n",
    "\n",
    "let's remove elements with a z-score outsize of [-3,3] in either the sale price or the square foot columns"
   ]
  },
  {
   "cell_type": "code",
   "execution_count": 51,
   "metadata": {},
   "outputs": [],
   "source": [
    "from scipy import stats\n",
    "ssm_df = fsm_df[(np.abs(stats.zscore(fsm_df)) < 3).all(axis=1)]"
   ]
  },
  {
   "cell_type": "code",
   "execution_count": 52,
   "metadata": {},
   "outputs": [],
   "source": [
    "formula = 'SalePrice ~ OutdoorSpace'\n",
    "ssm = ols(formula=formula, data=ssm_df).fit()"
   ]
  },
  {
   "cell_type": "code",
   "execution_count": 53,
   "metadata": {},
   "outputs": [
    {
     "data": {
      "text/html": [
       "<table class=\"simpletable\">\n",
       "<caption>OLS Regression Results</caption>\n",
       "<tr>\n",
       "  <th>Dep. Variable:</th>        <td>SalePrice</td>    <th>  R-squared:         </th>  <td>   0.099</td>  \n",
       "</tr>\n",
       "<tr>\n",
       "  <th>Model:</th>                   <td>OLS</td>       <th>  Adj. R-squared:    </th>  <td>   0.099</td>  \n",
       "</tr>\n",
       "<tr>\n",
       "  <th>Method:</th>             <td>Least Squares</td>  <th>  F-statistic:       </th>  <td>   2065.</td>  \n",
       "</tr>\n",
       "<tr>\n",
       "  <th>Date:</th>             <td>Fri, 19 Jun 2020</td> <th>  Prob (F-statistic):</th>   <td>  0.00</td>   \n",
       "</tr>\n",
       "<tr>\n",
       "  <th>Time:</th>                 <td>15:24:05</td>     <th>  Log-Likelihood:    </th> <td>-2.6818e+05</td>\n",
       "</tr>\n",
       "<tr>\n",
       "  <th>No. Observations:</th>      <td> 18771</td>      <th>  AIC:               </th>  <td>5.364e+05</td> \n",
       "</tr>\n",
       "<tr>\n",
       "  <th>Df Residuals:</th>          <td> 18769</td>      <th>  BIC:               </th>  <td>5.364e+05</td> \n",
       "</tr>\n",
       "<tr>\n",
       "  <th>Df Model:</th>              <td>     1</td>      <th>                     </th>      <td> </td>     \n",
       "</tr>\n",
       "<tr>\n",
       "  <th>Covariance Type:</th>      <td>nonrobust</td>    <th>                     </th>      <td> </td>     \n",
       "</tr>\n",
       "</table>\n",
       "<table class=\"simpletable\">\n",
       "<tr>\n",
       "        <td></td>          <th>coef</th>     <th>std err</th>      <th>t</th>      <th>P>|t|</th>  <th>[0.025</th>    <th>0.975]</th>  \n",
       "</tr>\n",
       "<tr>\n",
       "  <th>Intercept</th>    <td> 6.228e+05</td> <td> 3885.741</td> <td>  160.272</td> <td> 0.000</td> <td> 6.15e+05</td> <td>  6.3e+05</td>\n",
       "</tr>\n",
       "<tr>\n",
       "  <th>OutdoorSpace</th> <td>  635.3905</td> <td>   13.984</td> <td>   45.438</td> <td> 0.000</td> <td>  607.981</td> <td>  662.800</td>\n",
       "</tr>\n",
       "</table>\n",
       "<table class=\"simpletable\">\n",
       "<tr>\n",
       "  <th>Omnibus:</th>       <td>6214.765</td> <th>  Durbin-Watson:     </th> <td>   1.028</td> \n",
       "</tr>\n",
       "<tr>\n",
       "  <th>Prob(Omnibus):</th>  <td> 0.000</td>  <th>  Jarque-Bera (JB):  </th> <td>21908.029</td>\n",
       "</tr>\n",
       "<tr>\n",
       "  <th>Skew:</th>           <td> 1.663</td>  <th>  Prob(JB):          </th> <td>    0.00</td> \n",
       "</tr>\n",
       "<tr>\n",
       "  <th>Kurtosis:</th>       <td> 7.116</td>  <th>  Cond. No.          </th> <td>    382.</td> \n",
       "</tr>\n",
       "</table><br/><br/>Warnings:<br/>[1] Standard Errors assume that the covariance matrix of the errors is correctly specified."
      ],
      "text/plain": [
       "<class 'statsmodels.iolib.summary.Summary'>\n",
       "\"\"\"\n",
       "                            OLS Regression Results                            \n",
       "==============================================================================\n",
       "Dep. Variable:              SalePrice   R-squared:                       0.099\n",
       "Model:                            OLS   Adj. R-squared:                  0.099\n",
       "Method:                 Least Squares   F-statistic:                     2065.\n",
       "Date:                Fri, 19 Jun 2020   Prob (F-statistic):               0.00\n",
       "Time:                        15:24:05   Log-Likelihood:            -2.6818e+05\n",
       "No. Observations:               18771   AIC:                         5.364e+05\n",
       "Df Residuals:                   18769   BIC:                         5.364e+05\n",
       "Df Model:                           1                                         \n",
       "Covariance Type:            nonrobust                                         \n",
       "================================================================================\n",
       "                   coef    std err          t      P>|t|      [0.025      0.975]\n",
       "--------------------------------------------------------------------------------\n",
       "Intercept     6.228e+05   3885.741    160.272      0.000    6.15e+05     6.3e+05\n",
       "OutdoorSpace   635.3905     13.984     45.438      0.000     607.981     662.800\n",
       "==============================================================================\n",
       "Omnibus:                     6214.765   Durbin-Watson:                   1.028\n",
       "Prob(Omnibus):                  0.000   Jarque-Bera (JB):            21908.029\n",
       "Skew:                           1.663   Prob(JB):                         0.00\n",
       "Kurtosis:                       7.116   Cond. No.                         382.\n",
       "==============================================================================\n",
       "\n",
       "Warnings:\n",
       "[1] Standard Errors assume that the covariance matrix of the errors is correctly specified.\n",
       "\"\"\""
      ]
     },
     "execution_count": 53,
     "metadata": {},
     "output_type": "execute_result"
    }
   ],
   "source": [
    "ssm.summary()"
   ]
  },
  {
   "cell_type": "markdown",
   "metadata": {},
   "source": [
    "## Check homoscedasticity again"
   ]
  },
  {
   "cell_type": "code",
   "execution_count": 54,
   "metadata": {},
   "outputs": [
    {
     "data": {
      "image/png": "[encoded data removed]",
      "text/plain": [
       "<Figure size 720x432 with 1 Axes>"
      ]
     },
     "metadata": {},
     "output_type": "display_data"
    }
   ],
   "source": [
    "ssm_resids = ssm.resid\n",
    "y_hat = ssm.predict()\n",
    "fig, ax = plt.subplots(figsize=(10,6))\n",
    "ax.scatter(y_hat, ssm_resids);"
   ]
  },
  {
   "cell_type": "markdown",
   "metadata": {},
   "source": [
    "## check normality with Q-Q plot again"
   ]
  },
  {
   "cell_type": "code",
   "execution_count": 55,
   "metadata": {},
   "outputs": [
    {
     "data": {
      "image/png": "[encoded data removed]",
      "text/plain": [
       "<Figure size 432x288 with 1 Axes>"
      ]
     },
     "execution_count": 55,
     "metadata": {},
     "output_type": "execute_result"
    },
    {
     "data": {
      "image/png": "[encoded data removed]",
      "text/plain": [
       "<Figure size 432x288 with 1 Axes>"
      ]
     },
     "metadata": {},
     "output_type": "display_data"
    }
   ],
   "source": [
    "sm.qqplot(ssm_resids)"
   ]
  },
  {
   "cell_type": "markdown",
   "metadata": {},
   "source": [
    "## check normality with Jarque Bera test again"
   ]
  },
  {
   "cell_type": "code",
   "execution_count": 56,
   "metadata": {},
   "outputs": [
    {
     "data": {
      "text/plain": [
       "[('JB', 21908.028722707073),\n",
       " ('Prob', 0.0),\n",
       " ('Skew', 1.6633465027389773),\n",
       " ('Kurtosis', 7.116311236929358)]"
      ]
     },
     "execution_count": 56,
     "metadata": {},
     "output_type": "execute_result"
    }
   ],
   "source": [
    "name = ['JB', 'Prob', 'Skew', 'Kurtosis']\n",
    "test = sms.jarque_bera(ssm.resid)\n",
    "list(zip(name, test))"
   ]
  },
  {
   "cell_type": "markdown",
   "metadata": {},
   "source": [
    "## Check means of populations houses with and without porch/deck"
   ]
  },
  {
   "cell_type": "code",
   "execution_count": 57,
   "metadata": {},
   "outputs": [
    {
     "data": {
      "text/plain": [
       "count    19264.000000\n",
       "mean       210.701464\n",
       "std        261.106145\n",
       "min          0.000000\n",
       "25%         30.000000\n",
       "50%        130.000000\n",
       "75%        300.000000\n",
       "max      11850.000000\n",
       "Name: OutdoorSpace, dtype: float64"
      ]
     },
     "execution_count": 57,
     "metadata": {},
     "output_type": "execute_result"
    }
   ],
   "source": [
    "df['OutdoorSpace'].describe()"
   ]
  },
  {
   "cell_type": "code",
   "execution_count": 58,
   "metadata": {},
   "outputs": [
    {
     "data": {
      "text/plain": [
       "0"
      ]
     },
     "execution_count": 58,
     "metadata": {},
     "output_type": "execute_result"
    }
   ],
   "source": [
    "df['OutdoorSpace'].isnull().sum()"
   ]
  },
  {
   "cell_type": "code",
   "execution_count": 59,
   "metadata": {},
   "outputs": [
    {
     "name": "stdout",
     "output_type": "stream",
     "text": [
      "14672\n"
     ]
    }
   ],
   "source": [
    "#create dataframe with OutdoorSpace greater than zero... \n",
    "# meaning these are houses with a porch or deck\n",
    "porch = df[df.OutdoorSpace > 0]\n",
    "# how many \n",
    "a=porch.shape[0]\n",
    "print(a)"
   ]
  },
  {
   "cell_type": "code",
   "execution_count": 60,
   "metadata": {},
   "outputs": [
    {
     "name": "stdout",
     "output_type": "stream",
     "text": [
      "4592\n"
     ]
    }
   ],
   "source": [
    "no_porch = df[df.OutdoorSpace == 0] \n",
    "b=no_porch.shape[0]\n",
    "print(b)"
   ]
  },
  {
   "cell_type": "code",
   "execution_count": 61,
   "metadata": {},
   "outputs": [
    {
     "name": "stdout",
     "output_type": "stream",
     "text": [
      "19264\n"
     ]
    }
   ],
   "source": [
    "print(a+b)"
   ]
  },
  {
   "cell_type": "code",
   "execution_count": 62,
   "metadata": {},
   "outputs": [],
   "source": [
    "alt = porch.SalePrice.values"
   ]
  },
  {
   "cell_type": "code",
   "execution_count": 63,
   "metadata": {},
   "outputs": [],
   "source": [
    "control = no_porch.SalePrice.values"
   ]
  },
  {
   "cell_type": "code",
   "execution_count": 64,
   "metadata": {},
   "outputs": [
    {
     "data": {
      "text/plain": [
       "(846473.3075926936, 628407.5222125435)"
      ]
     },
     "execution_count": 64,
     "metadata": {},
     "output_type": "execute_result"
    }
   ],
   "source": [
    "alt.mean(), control.mean()"
   ]
  },
  {
   "cell_type": "code",
   "execution_count": 65,
   "metadata": {},
   "outputs": [
    {
     "data": {
      "text/plain": [
       "<matplotlib.axes._subplots.AxesSubplot at 0x7fd5c9d8f160>"
      ]
     },
     "execution_count": 65,
     "metadata": {},
     "output_type": "execute_result"
    },
    {
     "data": {
      "image/png": "[encoded data removed]",
      "text/plain": [
       "<Figure size 432x288 with 1 Axes>"
      ]
     },
     "metadata": {},
     "output_type": "display_data"
    }
   ],
   "source": [
    "sns.distplot(control)\n",
    "sns.distplot(alt)\n"
   ]
  },
  {
   "cell_type": "code",
   "execution_count": 66,
   "metadata": {},
   "outputs": [
    {
     "name": "stdout",
     "output_type": "stream",
     "text": [
      "critical t_stat: 1.6449245723060157\n",
      "test t-stat: -18.54118065283717\n",
      "pvalue = 2.207030074493875e-76\n"
     ]
    }
   ],
   "source": [
    "from scipy.stats import ttest_ind\n",
    "critical_tstat = stats.t.ppf(.95, 21479)\n",
    "\n",
    "ttest_result=ttest_ind(control, alt)\n",
    "print(f'critical t_stat: {critical_tstat}')\n",
    "print(f'test t-stat: {ttest_result.statistic}')\n",
    "print(f'pvalue = {ttest_result.pvalue/2}')"
   ]
  },
  {
   "cell_type": "code",
   "execution_count": null,
   "metadata": {},
   "outputs": [],
   "source": []
  }
 ],
 "metadata": {
  "kernelspec": {
   "display_name": "learn-env",
   "language": "python",
   "name": "learn-env"
  },
  "language_info": {
   "codemirror_mode": {
    "name": "ipython",
    "version": 3
   },
   "file_extension": ".py",
   "mimetype": "text/x-python",
   "name": "python",
   "nbconvert_exporter": "python",
   "pygments_lexer": "ipython3",
   "version": "3.6.9"
  }
 },
 "nbformat": 4,
 "nbformat_minor": 4
}
