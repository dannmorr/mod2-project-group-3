{
 "cells": [
  {
   "cell_type": "markdown",
   "metadata": {},
   "source": [
    "## Exploration for Claim 1: ##\n",
    "    Higher square footage increases home sale price"
   ]
  },
  {
   "cell_type": "markdown",
   "metadata": {},
   "source": [
    "### Importing Necessary Libraries\n"
   ]
  },
  {
   "cell_type": "code",
   "execution_count": 6,
   "metadata": {},
   "outputs": [],
   "source": [
    "#import all the things we will need\n",
    "import pandas as pd\n",
    "import numpy as np\n",
    "import matplotlib.pyplot as plt\n",
    "import seaborn as sns\n",
    "from scipy import stats\n",
    "from statsmodels.formula.api import ols"
   ]
  },
  {
   "cell_type": "markdown",
   "metadata": {},
   "source": [
    "### Load the data"
   ]
  },
  {
   "cell_type": "code",
   "execution_count": 7,
   "metadata": {},
   "outputs": [],
   "source": [
    "#read master.csv file into pandas dataframe\n",
    "raw= pd.read_csv('../../data/master.csv')"
   ]
  },
  {
   "cell_type": "code",
   "execution_count": 8,
   "metadata": {},
   "outputs": [
    {
     "data": {
      "text/plain": [
       "62039"
      ]
     },
     "execution_count": 8,
     "metadata": {},
     "output_type": "execute_result"
    }
   ],
   "source": [
    "# How many records in the dataframe?\n",
    "records = raw.shape[0]\n",
    "records"
   ]
  },
  {
   "cell_type": "code",
   "execution_count": 9,
   "metadata": {},
   "outputs": [
    {
     "data": {
      "text/plain": [
       "0"
      ]
     },
     "execution_count": 9,
     "metadata": {},
     "output_type": "execute_result"
    }
   ],
   "source": [
    "# Any duplicate entries?\n",
    "raw.duplicated().sum()"
   ]
  },
  {
   "cell_type": "markdown",
   "metadata": {},
   "source": [
    "### SalePrice is our target variable, so we will set that as the index"
   ]
  },
  {
   "cell_type": "code",
   "execution_count": 15,
   "metadata": {},
   "outputs": [
    {
     "data": {
      "text/html": [
       "<div>\n",
       "<style scoped>\n",
       "    .dataframe tbody tr th:only-of-type {\n",
       "        vertical-align: middle;\n",
       "    }\n",
       "\n",
       "    .dataframe tbody tr th {\n",
       "        vertical-align: top;\n",
       "    }\n",
       "\n",
       "    .dataframe thead th {\n",
       "        text-align: right;\n",
       "    }\n",
       "</style>\n",
       "<table border=\"1\" class=\"dataframe\">\n",
       "  <thead>\n",
       "    <tr style=\"text-align: right;\">\n",
       "      <th></th>\n",
       "      <th>SalePrice</th>\n",
       "      <th>id</th>\n",
       "      <th>ExciseTaxNbr</th>\n",
       "      <th>DocumentDate</th>\n",
       "      <th>RecordingNbr</th>\n",
       "      <th>Volume</th>\n",
       "      <th>Page</th>\n",
       "      <th>PlatNbr</th>\n",
       "      <th>PlatType</th>\n",
       "      <th>PlatLot</th>\n",
       "      <th>...</th>\n",
       "      <th>FpFreestanding</th>\n",
       "      <th>FpAdditional</th>\n",
       "      <th>YrBuilt</th>\n",
       "      <th>YrRenovated</th>\n",
       "      <th>PcntComplete</th>\n",
       "      <th>Obsolescence</th>\n",
       "      <th>PcntNetCondition</th>\n",
       "      <th>Condition</th>\n",
       "      <th>AddnlCost</th>\n",
       "      <th>footprint</th>\n",
       "    </tr>\n",
       "  </thead>\n",
       "  <tbody>\n",
       "    <tr>\n",
       "      <td>0</td>\n",
       "      <td>9796500</td>\n",
       "      <td>200042</td>\n",
       "      <td>3003343</td>\n",
       "      <td>08/02/2019</td>\n",
       "      <td>20190805001366</td>\n",
       "      <td></td>\n",
       "      <td></td>\n",
       "      <td></td>\n",
       "      <td></td>\n",
       "      <td></td>\n",
       "      <td>...</td>\n",
       "      <td>NaN</td>\n",
       "      <td>NaN</td>\n",
       "      <td>NaN</td>\n",
       "      <td>NaN</td>\n",
       "      <td>NaN</td>\n",
       "      <td>NaN</td>\n",
       "      <td>NaN</td>\n",
       "      <td>NaN</td>\n",
       "      <td>NaN</td>\n",
       "      <td>NaN</td>\n",
       "    </tr>\n",
       "    <tr>\n",
       "      <td>1</td>\n",
       "      <td>0</td>\n",
       "      <td>1000004</td>\n",
       "      <td>3003032</td>\n",
       "      <td>06/26/2019</td>\n",
       "      <td>20190802000413</td>\n",
       "      <td></td>\n",
       "      <td></td>\n",
       "      <td></td>\n",
       "      <td></td>\n",
       "      <td></td>\n",
       "      <td>...</td>\n",
       "      <td>NaN</td>\n",
       "      <td>NaN</td>\n",
       "      <td>NaN</td>\n",
       "      <td>NaN</td>\n",
       "      <td>NaN</td>\n",
       "      <td>NaN</td>\n",
       "      <td>NaN</td>\n",
       "      <td>NaN</td>\n",
       "      <td>NaN</td>\n",
       "      <td>NaN</td>\n",
       "    </tr>\n",
       "    <tr>\n",
       "      <td>2</td>\n",
       "      <td>485500</td>\n",
       "      <td>1000042</td>\n",
       "      <td>3018323</td>\n",
       "      <td>10/29/2019</td>\n",
       "      <td>20191031001228</td>\n",
       "      <td></td>\n",
       "      <td></td>\n",
       "      <td></td>\n",
       "      <td></td>\n",
       "      <td></td>\n",
       "      <td>...</td>\n",
       "      <td>0.0</td>\n",
       "      <td>0.0</td>\n",
       "      <td>2016.0</td>\n",
       "      <td>0.0</td>\n",
       "      <td>0.0</td>\n",
       "      <td>0.0</td>\n",
       "      <td>0.0</td>\n",
       "      <td>3.0</td>\n",
       "      <td>0.0</td>\n",
       "      <td>0.238254</td>\n",
       "    </tr>\n",
       "    <tr>\n",
       "      <td>3</td>\n",
       "      <td>0</td>\n",
       "      <td>1000047</td>\n",
       "      <td>2994317</td>\n",
       "      <td>05/15/2019</td>\n",
       "      <td>20190618001163</td>\n",
       "      <td></td>\n",
       "      <td></td>\n",
       "      <td></td>\n",
       "      <td></td>\n",
       "      <td></td>\n",
       "      <td>...</td>\n",
       "      <td>NaN</td>\n",
       "      <td>NaN</td>\n",
       "      <td>NaN</td>\n",
       "      <td>NaN</td>\n",
       "      <td>NaN</td>\n",
       "      <td>NaN</td>\n",
       "      <td>NaN</td>\n",
       "      <td>NaN</td>\n",
       "      <td>NaN</td>\n",
       "      <td>NaN</td>\n",
       "    </tr>\n",
       "    <tr>\n",
       "      <td>4</td>\n",
       "      <td>6050000</td>\n",
       "      <td>1000056</td>\n",
       "      <td>3012411</td>\n",
       "      <td>09/27/2019</td>\n",
       "      <td>20190927001106</td>\n",
       "      <td></td>\n",
       "      <td></td>\n",
       "      <td></td>\n",
       "      <td></td>\n",
       "      <td></td>\n",
       "      <td>...</td>\n",
       "      <td>NaN</td>\n",
       "      <td>NaN</td>\n",
       "      <td>NaN</td>\n",
       "      <td>NaN</td>\n",
       "      <td>NaN</td>\n",
       "      <td>NaN</td>\n",
       "      <td>NaN</td>\n",
       "      <td>NaN</td>\n",
       "      <td>NaN</td>\n",
       "      <td>NaN</td>\n",
       "    </tr>\n",
       "  </tbody>\n",
       "</table>\n",
       "<p>5 rows × 151 columns</p>\n",
       "</div>"
      ],
      "text/plain": [
       "   SalePrice       id  ExciseTaxNbr DocumentDate    RecordingNbr Volume Page  \\\n",
       "0    9796500   200042       3003343   08/02/2019  20190805001366               \n",
       "1          0  1000004       3003032   06/26/2019  20190802000413               \n",
       "2     485500  1000042       3018323   10/29/2019  20191031001228               \n",
       "3          0  1000047       2994317   05/15/2019  20190618001163               \n",
       "4    6050000  1000056       3012411   09/27/2019  20190927001106               \n",
       "\n",
       "  PlatNbr PlatType         PlatLot  ... FpFreestanding FpAdditional YrBuilt  \\\n",
       "0                                   ...            NaN          NaN     NaN   \n",
       "1                                   ...            NaN          NaN     NaN   \n",
       "2                                   ...            0.0          0.0  2016.0   \n",
       "3                                   ...            NaN          NaN     NaN   \n",
       "4                                   ...            NaN          NaN     NaN   \n",
       "\n",
       "   YrRenovated  PcntComplete  Obsolescence PcntNetCondition Condition  \\\n",
       "0          NaN           NaN           NaN              NaN       NaN   \n",
       "1          NaN           NaN           NaN              NaN       NaN   \n",
       "2          0.0           0.0           0.0              0.0       3.0   \n",
       "3          NaN           NaN           NaN              NaN       NaN   \n",
       "4          NaN           NaN           NaN              NaN       NaN   \n",
       "\n",
       "  AddnlCost footprint  \n",
       "0       NaN       NaN  \n",
       "1       NaN       NaN  \n",
       "2       0.0  0.238254  \n",
       "3       NaN       NaN  \n",
       "4       NaN       NaN  \n",
       "\n",
       "[5 rows x 151 columns]"
      ]
     },
     "execution_count": 15,
     "metadata": {},
     "output_type": "execute_result"
    }
   ],
   "source": [
    "#set SalePrice as index\n",
    "\n",
    "cols = list(raw.columns)\n",
    "cols = [cols[3]] + cols[:3] + cols[4:]\n",
    "raw = raw[cols]\n",
    "raw.head()"
   ]
  },
  {
   "cell_type": "markdown",
   "metadata": {},
   "source": [
    "### Now we select the sales with the proper PropertyType codes\n",
    "The following is interest to us:\n",
    " - 11: Household, single family units\n",
    "\n",
    "These are not because they don't help us answer our questions about homeownership\n",
    "\n",
    " - 12: Multiple family residence (Residential, 2-4 units)\n",
    " - 13: Multiple family residence (Residential, 5+ units)\n",
    " - 14: Residential condominiums\n",
    "  \n",
    "*These codes can be found in the Lookup.zip file located at*\n",
    "\n",
    "https://info.kingcounty.gov/assessor/DataDownload/default.aspx "
   ]
  },
  {
   "cell_type": "code",
   "execution_count": 16,
   "metadata": {},
   "outputs": [],
   "source": [
    "#remove non-reisdential property types based on LookUp file information\n",
    "#(see reference folder)\n",
    "\n",
    "proptypes = [11]\n",
    "\n",
    "df = raw[raw.PropertyType.isin(proptypes)]"
   ]
  },
  {
   "cell_type": "code",
   "execution_count": 18,
   "metadata": {},
   "outputs": [
    {
     "data": {
      "text/plain": [
       "62039"
      ]
     },
     "execution_count": 18,
     "metadata": {},
     "output_type": "execute_result"
    }
   ],
   "source": [
    "# How many records in the master_res dataframe?\n",
    "records = raw.shape[0]\n",
    "records"
   ]
  },
  {
   "cell_type": "code",
   "execution_count": 24,
   "metadata": {},
   "outputs": [
    {
     "data": {
      "text/html": [
       "<div>\n",
       "<style scoped>\n",
       "    .dataframe tbody tr th:only-of-type {\n",
       "        vertical-align: middle;\n",
       "    }\n",
       "\n",
       "    .dataframe tbody tr th {\n",
       "        vertical-align: top;\n",
       "    }\n",
       "\n",
       "    .dataframe thead th {\n",
       "        text-align: right;\n",
       "    }\n",
       "</style>\n",
       "<table border=\"1\" class=\"dataframe\">\n",
       "  <thead>\n",
       "    <tr style=\"text-align: right;\">\n",
       "      <th></th>\n",
       "      <th>SalePrice</th>\n",
       "      <th>id</th>\n",
       "      <th>ExciseTaxNbr</th>\n",
       "      <th>DocumentDate</th>\n",
       "      <th>RecordingNbr</th>\n",
       "      <th>Volume</th>\n",
       "      <th>Page</th>\n",
       "      <th>PlatNbr</th>\n",
       "      <th>PlatType</th>\n",
       "      <th>PlatLot</th>\n",
       "      <th>...</th>\n",
       "      <th>FpFreestanding</th>\n",
       "      <th>FpAdditional</th>\n",
       "      <th>YrBuilt</th>\n",
       "      <th>YrRenovated</th>\n",
       "      <th>PcntComplete</th>\n",
       "      <th>Obsolescence</th>\n",
       "      <th>PcntNetCondition</th>\n",
       "      <th>Condition</th>\n",
       "      <th>AddnlCost</th>\n",
       "      <th>footprint</th>\n",
       "    </tr>\n",
       "  </thead>\n",
       "  <tbody>\n",
       "    <tr>\n",
       "      <td>2</td>\n",
       "      <td>485500</td>\n",
       "      <td>1000042</td>\n",
       "      <td>3018323</td>\n",
       "      <td>10/29/2019</td>\n",
       "      <td>20191031001228</td>\n",
       "      <td></td>\n",
       "      <td></td>\n",
       "      <td></td>\n",
       "      <td></td>\n",
       "      <td></td>\n",
       "      <td>...</td>\n",
       "      <td>0.0</td>\n",
       "      <td>0.0</td>\n",
       "      <td>2016.0</td>\n",
       "      <td>0.0</td>\n",
       "      <td>0.0</td>\n",
       "      <td>0.0</td>\n",
       "      <td>0.0</td>\n",
       "      <td>3.0</td>\n",
       "      <td>0.0</td>\n",
       "      <td>0.238254</td>\n",
       "    </tr>\n",
       "    <tr>\n",
       "      <td>8</td>\n",
       "      <td>358308</td>\n",
       "      <td>1000067</td>\n",
       "      <td>2979287</td>\n",
       "      <td>03/18/2019</td>\n",
       "      <td>20190327000321</td>\n",
       "      <td></td>\n",
       "      <td></td>\n",
       "      <td></td>\n",
       "      <td></td>\n",
       "      <td></td>\n",
       "      <td>...</td>\n",
       "      <td>0.0</td>\n",
       "      <td>1.0</td>\n",
       "      <td>1946.0</td>\n",
       "      <td>0.0</td>\n",
       "      <td>0.0</td>\n",
       "      <td>0.0</td>\n",
       "      <td>0.0</td>\n",
       "      <td>4.0</td>\n",
       "      <td>0.0</td>\n",
       "      <td>0.128736</td>\n",
       "    </tr>\n",
       "    <tr>\n",
       "      <td>11</td>\n",
       "      <td>850000</td>\n",
       "      <td>1200008</td>\n",
       "      <td>2991776</td>\n",
       "      <td>05/17/2019</td>\n",
       "      <td>20190604001211</td>\n",
       "      <td></td>\n",
       "      <td></td>\n",
       "      <td></td>\n",
       "      <td></td>\n",
       "      <td></td>\n",
       "      <td>...</td>\n",
       "      <td>0.0</td>\n",
       "      <td>1.0</td>\n",
       "      <td>1964.0</td>\n",
       "      <td>0.0</td>\n",
       "      <td>0.0</td>\n",
       "      <td>0.0</td>\n",
       "      <td>0.0</td>\n",
       "      <td>4.0</td>\n",
       "      <td>0.0</td>\n",
       "      <td>0.072488</td>\n",
       "    </tr>\n",
       "    <tr>\n",
       "      <td>22</td>\n",
       "      <td>465000</td>\n",
       "      <td>2000015</td>\n",
       "      <td>3022128</td>\n",
       "      <td>11/19/2019</td>\n",
       "      <td>20191122001296</td>\n",
       "      <td></td>\n",
       "      <td></td>\n",
       "      <td></td>\n",
       "      <td></td>\n",
       "      <td></td>\n",
       "      <td>...</td>\n",
       "      <td>0.0</td>\n",
       "      <td>1.0</td>\n",
       "      <td>1961.0</td>\n",
       "      <td>0.0</td>\n",
       "      <td>0.0</td>\n",
       "      <td>0.0</td>\n",
       "      <td>0.0</td>\n",
       "      <td>5.0</td>\n",
       "      <td>0.0</td>\n",
       "      <td>0.086336</td>\n",
       "    </tr>\n",
       "    <tr>\n",
       "      <td>30</td>\n",
       "      <td>525000</td>\n",
       "      <td>3000060</td>\n",
       "      <td>3025153</td>\n",
       "      <td>12/06/2019</td>\n",
       "      <td>20191212001113</td>\n",
       "      <td></td>\n",
       "      <td></td>\n",
       "      <td></td>\n",
       "      <td></td>\n",
       "      <td></td>\n",
       "      <td>...</td>\n",
       "      <td>0.0</td>\n",
       "      <td>0.0</td>\n",
       "      <td>1903.0</td>\n",
       "      <td>0.0</td>\n",
       "      <td>0.0</td>\n",
       "      <td>0.0</td>\n",
       "      <td>0.0</td>\n",
       "      <td>4.0</td>\n",
       "      <td>0.0</td>\n",
       "      <td>0.107041</td>\n",
       "    </tr>\n",
       "  </tbody>\n",
       "</table>\n",
       "<p>5 rows × 151 columns</p>\n",
       "</div>"
      ],
      "text/plain": [
       "    SalePrice       id  ExciseTaxNbr DocumentDate    RecordingNbr Volume Page  \\\n",
       "2      485500  1000042       3018323   10/29/2019  20191031001228               \n",
       "8      358308  1000067       2979287   03/18/2019  20190327000321               \n",
       "11     850000  1200008       2991776   05/17/2019  20190604001211               \n",
       "22     465000  2000015       3022128   11/19/2019  20191122001296               \n",
       "30     525000  3000060       3025153   12/06/2019  20191212001113               \n",
       "\n",
       "   PlatNbr PlatType         PlatLot  ... FpFreestanding FpAdditional YrBuilt  \\\n",
       "2                                    ...            0.0          0.0  2016.0   \n",
       "8                                    ...            0.0          1.0  1946.0   \n",
       "11                                   ...            0.0          1.0  1964.0   \n",
       "22                                   ...            0.0          1.0  1961.0   \n",
       "30                                   ...            0.0          0.0  1903.0   \n",
       "\n",
       "    YrRenovated  PcntComplete  Obsolescence PcntNetCondition Condition  \\\n",
       "2           0.0           0.0           0.0              0.0       3.0   \n",
       "8           0.0           0.0           0.0              0.0       4.0   \n",
       "11          0.0           0.0           0.0              0.0       4.0   \n",
       "22          0.0           0.0           0.0              0.0       5.0   \n",
       "30          0.0           0.0           0.0              0.0       4.0   \n",
       "\n",
       "   AddnlCost footprint  \n",
       "2        0.0  0.238254  \n",
       "8        0.0  0.128736  \n",
       "11       0.0  0.072488  \n",
       "22       0.0  0.086336  \n",
       "30       0.0  0.107041  \n",
       "\n",
       "[5 rows x 151 columns]"
      ]
     },
     "execution_count": 24,
     "metadata": {},
     "output_type": "execute_result"
    }
   ],
   "source": [
    "#remove all sales with price < 0\n",
    "df_sale = master_res[master_res.SalePrice > 0]\n",
    "df_sale.head()"
   ]
  },
  {
   "cell_type": "code",
   "execution_count": 23,
   "metadata": {},
   "outputs": [
    {
     "data": {
      "text/plain": [
       "21795"
      ]
     },
     "execution_count": 23,
     "metadata": {},
     "output_type": "execute_result"
    }
   ],
   "source": [
    "# How many records in the df_sale dataframe?\n",
    "records = df_sale.shape[0]\n",
    "records"
   ]
  },
  {
   "cell_type": "code",
   "execution_count": 14,
   "metadata": {},
   "outputs": [],
   "source": [
    "#FSM for sale price and total square footage\n",
    "fsm_df = df_sale[['SalePrice', 'SqFtTotLiving']]"
   ]
  },
  {
   "cell_type": "code",
   "execution_count": 15,
   "metadata": {},
   "outputs": [
    {
     "name": "stderr",
     "output_type": "stream",
     "text": [
      "/opt/anaconda3/envs/learn-env/lib/python3.6/site-packages/ipykernel_launcher.py:1: SettingWithCopyWarning: \n",
      "A value is trying to be set on a copy of a slice from a DataFrame\n",
      "\n",
      "See the caveats in the documentation: http://pandas.pydata.org/pandas-docs/stable/user_guide/indexing.html#returning-a-view-versus-a-copy\n",
      "  \"\"\"Entry point for launching an IPython kernel.\n"
     ]
    }
   ],
   "source": [
    "fsm_df.dropna(inplace=True)\n",
    "fsm_df.head();"
   ]
  },
  {
   "cell_type": "code",
   "execution_count": 16,
   "metadata": {},
   "outputs": [],
   "source": [
    "formula = 'SalePrice~SqFtTotLiving'\n",
    "fsm = ols(formula=formula, data=fsm_df).fit()"
   ]
  },
  {
   "cell_type": "code",
   "execution_count": 18,
   "metadata": {},
   "outputs": [
    {
     "data": {
      "text/html": [
       "<table class=\"simpletable\">\n",
       "<caption>OLS Regression Results</caption>\n",
       "<tr>\n",
       "  <th>Dep. Variable:</th>        <td>SalePrice</td>    <th>  R-squared:         </th>  <td>   0.385</td>  \n",
       "</tr>\n",
       "<tr>\n",
       "  <th>Model:</th>                   <td>OLS</td>       <th>  Adj. R-squared:    </th>  <td>   0.385</td>  \n",
       "</tr>\n",
       "<tr>\n",
       "  <th>Method:</th>             <td>Least Squares</td>  <th>  F-statistic:       </th>  <td>1.191e+04</td> \n",
       "</tr>\n",
       "<tr>\n",
       "  <th>Date:</th>             <td>Mon, 15 Jun 2020</td> <th>  Prob (F-statistic):</th>   <td>  0.00</td>   \n",
       "</tr>\n",
       "<tr>\n",
       "  <th>Time:</th>                 <td>16:35:58</td>     <th>  Log-Likelihood:    </th> <td>-2.7525e+05</td>\n",
       "</tr>\n",
       "<tr>\n",
       "  <th>No. Observations:</th>      <td> 19033</td>      <th>  AIC:               </th>  <td>5.505e+05</td> \n",
       "</tr>\n",
       "<tr>\n",
       "  <th>Df Residuals:</th>          <td> 19031</td>      <th>  BIC:               </th>  <td>5.505e+05</td> \n",
       "</tr>\n",
       "<tr>\n",
       "  <th>Df Model:</th>              <td>     1</td>      <th>                     </th>      <td> </td>     \n",
       "</tr>\n",
       "<tr>\n",
       "  <th>Covariance Type:</th>      <td>nonrobust</td>    <th>                     </th>      <td> </td>     \n",
       "</tr>\n",
       "</table>\n",
       "<table class=\"simpletable\">\n",
       "<tr>\n",
       "        <td></td>           <th>coef</th>     <th>std err</th>      <th>t</th>      <th>P>|t|</th>  <th>[0.025</th>    <th>0.975]</th>  \n",
       "</tr>\n",
       "<tr>\n",
       "  <th>Intercept</th>     <td>-1.144e+04</td> <td> 8126.611</td> <td>   -1.408</td> <td> 0.159</td> <td>-2.74e+04</td> <td> 4485.665</td>\n",
       "</tr>\n",
       "<tr>\n",
       "  <th>SqFtTotLiving</th> <td>  377.0499</td> <td>    3.455</td> <td>  109.137</td> <td> 0.000</td> <td>  370.278</td> <td>  383.822</td>\n",
       "</tr>\n",
       "</table>\n",
       "<table class=\"simpletable\">\n",
       "<tr>\n",
       "  <th>Omnibus:</th>       <td>24410.132</td> <th>  Durbin-Watson:     </th>   <td>   1.115</td>  \n",
       "</tr>\n",
       "<tr>\n",
       "  <th>Prob(Omnibus):</th>  <td> 0.000</td>   <th>  Jarque-Bera (JB):  </th> <td>12524644.100</td>\n",
       "</tr>\n",
       "<tr>\n",
       "  <th>Skew:</th>           <td> 6.712</td>   <th>  Prob(JB):          </th>   <td>    0.00</td>  \n",
       "</tr>\n",
       "<tr>\n",
       "  <th>Kurtosis:</th>       <td>127.952</td>  <th>  Cond. No.          </th>   <td>5.71e+03</td>  \n",
       "</tr>\n",
       "</table><br/><br/>Warnings:<br/>[1] Standard Errors assume that the covariance matrix of the errors is correctly specified.<br/>[2] The condition number is large, 5.71e+03. This might indicate that there are<br/>strong multicollinearity or other numerical problems."
      ],
      "text/plain": [
       "<class 'statsmodels.iolib.summary.Summary'>\n",
       "\"\"\"\n",
       "                            OLS Regression Results                            \n",
       "==============================================================================\n",
       "Dep. Variable:              SalePrice   R-squared:                       0.385\n",
       "Model:                            OLS   Adj. R-squared:                  0.385\n",
       "Method:                 Least Squares   F-statistic:                 1.191e+04\n",
       "Date:                Mon, 15 Jun 2020   Prob (F-statistic):               0.00\n",
       "Time:                        16:35:58   Log-Likelihood:            -2.7525e+05\n",
       "No. Observations:               19033   AIC:                         5.505e+05\n",
       "Df Residuals:                   19031   BIC:                         5.505e+05\n",
       "Df Model:                           1                                         \n",
       "Covariance Type:            nonrobust                                         \n",
       "=================================================================================\n",
       "                    coef    std err          t      P>|t|      [0.025      0.975]\n",
       "---------------------------------------------------------------------------------\n",
       "Intercept     -1.144e+04   8126.611     -1.408      0.159   -2.74e+04    4485.665\n",
       "SqFtTotLiving   377.0499      3.455    109.137      0.000     370.278     383.822\n",
       "==============================================================================\n",
       "Omnibus:                    24410.132   Durbin-Watson:                   1.115\n",
       "Prob(Omnibus):                  0.000   Jarque-Bera (JB):         12524644.100\n",
       "Skew:                           6.712   Prob(JB):                         0.00\n",
       "Kurtosis:                     127.952   Cond. No.                     5.71e+03\n",
       "==============================================================================\n",
       "\n",
       "Warnings:\n",
       "[1] Standard Errors assume that the covariance matrix of the errors is correctly specified.\n",
       "[2] The condition number is large, 5.71e+03. This might indicate that there are\n",
       "strong multicollinearity or other numerical problems.\n",
       "\"\"\""
      ]
     },
     "execution_count": 18,
     "metadata": {},
     "output_type": "execute_result"
    }
   ],
   "source": [
    "#OLS Regression Results\n",
    "fsm.summary()"
   ]
  },
  {
   "cell_type": "code",
   "execution_count": 19,
   "metadata": {},
   "outputs": [
    {
     "name": "stderr",
     "output_type": "stream",
     "text": [
      "/opt/anaconda3/envs/learn-env/lib/python3.6/site-packages/numpy/lib/histograms.py:824: RuntimeWarning: invalid value encountered in greater_equal\n",
      "  keep = (tmp_a >= first_edge)\n",
      "/opt/anaconda3/envs/learn-env/lib/python3.6/site-packages/numpy/lib/histograms.py:825: RuntimeWarning: invalid value encountered in less_equal\n",
      "  keep &= (tmp_a <= last_edge)\n"
     ]
    },
    {
     "data": {
      "image/png": "[encoded data removed]",
      "text/plain": [
       "<Figure size 360x360 with 6 Axes>"
      ]
     },
     "metadata": {
      "needs_background": "light"
     },
     "output_type": "display_data"
    }
   ],
   "source": [
    "sns.pairplot(data= df_sale[['SalePrice', 'SqFtTotLiving']]);"
   ]
  },
  {
   "cell_type": "code",
   "execution_count": 38,
   "metadata": {},
   "outputs": [
    {
     "name": "stdout",
     "output_type": "stream",
     "text": [
      "Rsquared of FSM: 0.3849417963343311\n",
      "----------\n",
      "Beta values of FSM:\n",
      "Intercept       -11443.214296\n",
      "SqFtTotLiving      377.049879\n",
      "dtype: float64\n"
     ]
    }
   ],
   "source": [
    "# rsquared, and params.\n",
    "# save those values to the variables below.\n",
    "\n",
    "rsquared = fsm.rsquared\n",
    "params = fsm.params\n",
    "\n",
    "print(f'Rsquared of FSM: {rsquared}')\n",
    "print('----------')\n",
    "print('Beta values of FSM:')\n",
    "print(params)"
   ]
  },
  {
   "cell_type": "code",
   "execution_count": 39,
   "metadata": {},
   "outputs": [
    {
     "data": {
      "image/png": "[encoded data removed]",
      "text/plain": [
       "<Figure size 432x288 with 1 Axes>"
      ]
     },
     "execution_count": 39,
     "metadata": {},
     "output_type": "execute_result"
    },
    {
     "data": {
      "image/png": "[encoded data removed]",
      "text/plain": [
       "<Figure size 432x288 with 1 Axes>"
      ]
     },
     "metadata": {
      "needs_background": "light"
     },
     "output_type": "display_data"
    }
   ],
   "source": [
    "#QQ plot\n",
    "fsm_resids = fsm.resid\n",
    "\n",
    "import statsmodels.api as sm\n",
    "sm.qqplot(fsm_resids)"
   ]
  },
  {
   "cell_type": "code",
   "execution_count": 41,
   "metadata": {},
   "outputs": [
    {
     "data": {
      "text/plain": [
       "<matplotlib.collections.PathCollection at 0x7fba874b3ef0>"
      ]
     },
     "execution_count": 41,
     "metadata": {},
     "output_type": "execute_result"
    },
    {
     "data": {
      "image/png": "[encoded data removed]",
      "text/plain": [
       "<Figure size 432x288 with 1 Axes>"
      ]
     },
     "metadata": {
      "needs_background": "light"
     },
     "output_type": "display_data"
    }
   ],
   "source": [
    "#Homoscadasticity test\n",
    "y_hat = fsm.predict()\n",
    "\n",
    "fig, ax = plt.subplots()\n",
    "\n",
    "ax.scatter(y_hat, fsm_resids)"
   ]
  },
  {
   "cell_type": "code",
   "execution_count": 42,
   "metadata": {},
   "outputs": [],
   "source": [
    "from sklearn.linear_model import LinearRegression\n",
    "\n",
    "# fit an sklearn model\n",
    "#instantiate a linear regression object \n",
    "lr = LinearRegression()\n",
    "\n",
    "# split the data into target and features\n",
    "y = fsm_df.SalePrice\n",
    "X = fsm_df.drop('SalePrice', axis=1)\n",
    "\n",
    "# Call .fit from the linear regression object, and feed X and y in as parameters\n",
    "lr.fit(X,y)\n",
    "\n",
    "# lr has a method called score.  Again, feed in X and y, and read the output. Save it in the variable score.  What is that number?  Compare it to statsmodels. \n",
    "score = lr.score(X,y)\n",
    "# that is the r_2.  It is the same as the Statsmodels R_2\n",
    "\n",
    "# lr also has attributes coef_ and intercept_. Save and compare to statsmodels\n",
    "beta = lr.coef_\n",
    "intercept = lr.intercept_\n",
    "#sklearn calculates the same coeficients and intercepts as statmodels."
   ]
  },
  {
   "cell_type": "code",
   "execution_count": 44,
   "metadata": {},
   "outputs": [
    {
     "data": {
      "text/html": [
       "<table class=\"simpletable\">\n",
       "<caption>OLS Regression Results</caption>\n",
       "<tr>\n",
       "  <th>Dep. Variable:</th>        <td>SalePrice</td>    <th>  R-squared:         </th>  <td>   0.385</td>  \n",
       "</tr>\n",
       "<tr>\n",
       "  <th>Model:</th>                   <td>OLS</td>       <th>  Adj. R-squared:    </th>  <td>   0.385</td>  \n",
       "</tr>\n",
       "<tr>\n",
       "  <th>Method:</th>             <td>Least Squares</td>  <th>  F-statistic:       </th>  <td>1.191e+04</td> \n",
       "</tr>\n",
       "<tr>\n",
       "  <th>Date:</th>             <td>Mon, 15 Jun 2020</td> <th>  Prob (F-statistic):</th>   <td>  0.00</td>   \n",
       "</tr>\n",
       "<tr>\n",
       "  <th>Time:</th>                 <td>18:12:21</td>     <th>  Log-Likelihood:    </th> <td>-2.7525e+05</td>\n",
       "</tr>\n",
       "<tr>\n",
       "  <th>No. Observations:</th>      <td> 19033</td>      <th>  AIC:               </th>  <td>5.505e+05</td> \n",
       "</tr>\n",
       "<tr>\n",
       "  <th>Df Residuals:</th>          <td> 19031</td>      <th>  BIC:               </th>  <td>5.505e+05</td> \n",
       "</tr>\n",
       "<tr>\n",
       "  <th>Df Model:</th>              <td>     1</td>      <th>                     </th>      <td> </td>     \n",
       "</tr>\n",
       "<tr>\n",
       "  <th>Covariance Type:</th>      <td>nonrobust</td>    <th>                     </th>      <td> </td>     \n",
       "</tr>\n",
       "</table>\n",
       "<table class=\"simpletable\">\n",
       "<tr>\n",
       "        <td></td>           <th>coef</th>     <th>std err</th>      <th>t</th>      <th>P>|t|</th>  <th>[0.025</th>    <th>0.975]</th>  \n",
       "</tr>\n",
       "<tr>\n",
       "  <th>Intercept</th>     <td>-1.144e+04</td> <td> 8126.611</td> <td>   -1.408</td> <td> 0.159</td> <td>-2.74e+04</td> <td> 4485.665</td>\n",
       "</tr>\n",
       "<tr>\n",
       "  <th>SqFtTotLiving</th> <td>  377.0499</td> <td>    3.455</td> <td>  109.137</td> <td> 0.000</td> <td>  370.278</td> <td>  383.822</td>\n",
       "</tr>\n",
       "</table>\n",
       "<table class=\"simpletable\">\n",
       "<tr>\n",
       "  <th>Omnibus:</th>       <td>24410.132</td> <th>  Durbin-Watson:     </th>   <td>   1.115</td>  \n",
       "</tr>\n",
       "<tr>\n",
       "  <th>Prob(Omnibus):</th>  <td> 0.000</td>   <th>  Jarque-Bera (JB):  </th> <td>12524644.100</td>\n",
       "</tr>\n",
       "<tr>\n",
       "  <th>Skew:</th>           <td> 6.712</td>   <th>  Prob(JB):          </th>   <td>    0.00</td>  \n",
       "</tr>\n",
       "<tr>\n",
       "  <th>Kurtosis:</th>       <td>127.952</td>  <th>  Cond. No.          </th>   <td>5.71e+03</td>  \n",
       "</tr>\n",
       "</table><br/><br/>Warnings:<br/>[1] Standard Errors assume that the covariance matrix of the errors is correctly specified.<br/>[2] The condition number is large, 5.71e+03. This might indicate that there are<br/>strong multicollinearity or other numerical problems."
      ],
      "text/plain": [
       "<class 'statsmodels.iolib.summary.Summary'>\n",
       "\"\"\"\n",
       "                            OLS Regression Results                            \n",
       "==============================================================================\n",
       "Dep. Variable:              SalePrice   R-squared:                       0.385\n",
       "Model:                            OLS   Adj. R-squared:                  0.385\n",
       "Method:                 Least Squares   F-statistic:                 1.191e+04\n",
       "Date:                Mon, 15 Jun 2020   Prob (F-statistic):               0.00\n",
       "Time:                        18:12:21   Log-Likelihood:            -2.7525e+05\n",
       "No. Observations:               19033   AIC:                         5.505e+05\n",
       "Df Residuals:                   19031   BIC:                         5.505e+05\n",
       "Df Model:                           1                                         \n",
       "Covariance Type:            nonrobust                                         \n",
       "=================================================================================\n",
       "                    coef    std err          t      P>|t|      [0.025      0.975]\n",
       "---------------------------------------------------------------------------------\n",
       "Intercept     -1.144e+04   8126.611     -1.408      0.159   -2.74e+04    4485.665\n",
       "SqFtTotLiving   377.0499      3.455    109.137      0.000     370.278     383.822\n",
       "==============================================================================\n",
       "Omnibus:                    24410.132   Durbin-Watson:                   1.115\n",
       "Prob(Omnibus):                  0.000   Jarque-Bera (JB):         12524644.100\n",
       "Skew:                           6.712   Prob(JB):                         0.00\n",
       "Kurtosis:                     127.952   Cond. No.                     5.71e+03\n",
       "==============================================================================\n",
       "\n",
       "Warnings:\n",
       "[1] Standard Errors assume that the covariance matrix of the errors is correctly specified.\n",
       "[2] The condition number is large, 5.71e+03. This might indicate that there are\n",
       "strong multicollinearity or other numerical problems.\n",
       "\"\"\""
      ]
     },
     "execution_count": 44,
     "metadata": {},
     "output_type": "execute_result"
    }
   ],
   "source": [
    "# Create another dataframe containing our three features of interest\n",
    "model_2_df = df_sale[['SalePrice', 'SqFtTotLiving',]].copy()\n",
    "\n",
    "# Drop na's across all columns\n",
    "model_2_df.dropna(inplace=True)\n",
    "\n",
    "# save the R-like formula into the variable\n",
    "formula = 'SalePrice~SqFtTotLiving'\n",
    "\n",
    "# train the model like we did above\n",
    "model_2 = ols(formula=formula, data=model_2_df).fit()\n",
    "\n",
    "# print out the summary\n",
    "model_2.summary()"
   ]
  },
  {
   "cell_type": "code",
   "execution_count": null,
   "metadata": {},
   "outputs": [],
   "source": []
  }
 ],
 "metadata": {
  "kernelspec": {
   "display_name": "Python [conda env:learn-env] *",
   "language": "python",
   "name": "conda-env-learn-env-py"
  },
  "language_info": {
   "codemirror_mode": {
    "name": "ipython",
    "version": 3
   },
   "file_extension": ".py",
   "mimetype": "text/x-python",
   "name": "python",
   "nbconvert_exporter": "python",
   "pygments_lexer": "ipython3",
   "version": "3.6.9"
  }
 },
 "nbformat": 4,
 "nbformat_minor": 4
}
