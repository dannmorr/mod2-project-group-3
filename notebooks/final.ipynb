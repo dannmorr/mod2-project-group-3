{
 "cells": [
  {
   "cell_type": "markdown",
   "metadata": {},
   "source": [
    "# Final Notebook for King County Housing Prices Report \n",
    "\n",
    "The purpose of this notebook is to layout the steps that our group took for the following parts of this project:\n",
    " - Data acquisition\n",
    " - Data cleaning/exploration\n",
    " - Modeling\n",
    " - Statistical Testing\n",
    " \n",
    "Included are all of the necessary code cells needed to recreate our project.\n",
    "\n",
    "## Data Acquisition\n",
    "\n",
    "Our data came from the King County website [here](https://info.kingcounty.gov/assessor/DataDownload/default.aspx). From this site we downloaded three .csv files that would make up the entirety of our dataset for the project. These were \n",
    " 1. Real Property Sales\n",
    " 2. Residential Building\n",
    " 3. Parcel\n",
    "\n",
    "With these three datasets, along with the provided Lookup table, we were able to get a lot of information on each property sale. The datasets were far too large to save and pass around intially; to make them easier to deal with, we imported them, joined them using their common Major and Minor PIN columns, and then filtered only those sales from 2019. We exported them into the data directory as 'master.csv', which we will import here"
   ]
  },
  {
   "cell_type": "code",
   "execution_count": null,
   "metadata": {},
   "outputs": [],
   "source": []
  }
 ],
 "metadata": {
  "kernelspec": {
   "display_name": "learn-env",
   "language": "python",
   "name": "learn-env"
  },
  "language_info": {
   "codemirror_mode": {
    "name": "ipython",
    "version": 3
   },
   "file_extension": ".py",
   "mimetype": "text/x-python",
   "name": "python",
   "nbconvert_exporter": "python",
   "pygments_lexer": "ipython3",
   "version": "3.6.9"
  }
 },
 "nbformat": 4,
 "nbformat_minor": 4
}
